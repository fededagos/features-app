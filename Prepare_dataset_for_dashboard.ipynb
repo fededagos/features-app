{
 "cells": [
  {
   "cell_type": "markdown",
   "metadata": {},
   "source": [
    "# The only input needed to run everything is the `.h5` file!\n"
   ]
  },
  {
   "cell_type": "markdown",
   "metadata": {},
   "source": [
    "## Imports"
   ]
  },
  {
   "cell_type": "code",
   "execution_count": 16,
   "metadata": {},
   "outputs": [
    {
     "name": "stdout",
     "output_type": "stream",
     "text": [
      "The autoreload extension is already loaded. To reload it, use:\n",
      "  %reload_ext autoreload\n"
     ]
    }
   ],
   "source": [
    "# To make sure we can import h5utils.py from the notebooks folder\n",
    "import sys\n",
    "sys.path.append('../')\n",
    "\n",
    "import utils.h5_utils as h5\n",
    "from scripts import new_optoplots\n",
    "\n",
    "import os\n",
    "import shutil\n",
    "import glob\n",
    "import json\n",
    "from pathlib import Path\n",
    "import numpy as np\n",
    "import pandas as pd\n",
    "from tqdm.auto import tqdm\n",
    "import npyx\n",
    "\n",
    "import plotly.graph_objects as go\n",
    "import plotly.express as px\n",
    "\n",
    "from io import BytesIO\n",
    "import matplotlib.pyplot as plt\n",
    "import base64\n",
    "\n",
    "from IPython.display import clear_output\n",
    "\n",
    "from datetime import date\n",
    "\n",
    "from utils.constants import CORRESPONDENCE\n",
    "\n",
    "%load_ext autoreload\n",
    "%autoreload 2"
   ]
  },
  {
   "cell_type": "code",
   "execution_count": 17,
   "metadata": {},
   "outputs": [],
   "source": [
    "import warnings\n",
    "warnings.filterwarnings('ignore')"
   ]
  },
  {
   "cell_type": "code",
   "execution_count": 18,
   "metadata": {},
   "outputs": [],
   "source": [
    "#! Important note: central range is set to 82 because that is the default for dsmatch! So same as our features!\n",
    "N_CHANNELS = 10\n",
    "CENTRAL_RANGE = 82"
   ]
  },
  {
   "cell_type": "code",
   "execution_count": 19,
   "metadata": {},
   "outputs": [
    {
     "data": {
      "application/vnd.jupyter.widget-view+json": {
       "model_id": "7c57cedf20334ed9b3d24042dfc1f744",
       "version_major": 2,
       "version_minor": 0
      },
      "text/plain": [
       "Reading dataset:   0%|          | 0/54 [00:00<?, ?it/s]"
      ]
     },
     "metadata": {},
     "output_type": "display_data"
    },
    {
     "name": "stdout",
     "output_type": "stream",
     "text": [
      "54 neurons loaded, of which labelled: 54 \n",
      "0 neurons discarded, of which labelled: 0. More details at the 'discarded_df' attribute.\n"
     ]
    }
   ],
   "source": [
    "N_TEMPORAL_FEATURES = 15\n",
    "\n",
    "home = str(Path.home())\n",
    "DATA_PATH = home + \"/Desktop/new_hull.h5\"\n",
    "\n",
    "BASE_DATASET = h5.NeuronsDataset(\n",
    "    DATA_PATH,\n",
    "    quality_check=False,\n",
    "    normalise_wvf=False,\n",
    "    n_channels=N_CHANNELS,\n",
    "    central_range=CENTRAL_RANGE,\n",
    "    # _label=\"expert_label\"\n",
    "    _use_amplitudes=True,\n",
    ")\n",
    "\n",
    "BASE_DATASET.make_labels_only()\n"
   ]
  },
  {
   "cell_type": "markdown",
   "metadata": {},
   "source": [
    "## Dataset creation"
   ]
  },
  {
   "cell_type": "markdown",
   "metadata": {},
   "source": [
    "Feature dataset:\n",
    "\n",
    "Create if new or load if existing"
   ]
  },
  {
   "cell_type": "code",
   "execution_count": 20,
   "metadata": {},
   "outputs": [
    {
     "data": {
      "application/vnd.jupyter.widget-view+json": {
       "model_id": "275251d8f6b44f4b9e577f238abe7e06",
       "version_major": 2,
       "version_minor": 0
      },
      "text/plain": [
       "Extracting features:   0%|          | 0/54 [00:00<?, ?it/s]"
      ]
     },
     "metadata": {},
     "output_type": "display_data"
    }
   ],
   "source": [
    "def h5_feature_extraction(\n",
    "    dataset: h5.NeuronsDataset, save_path=None, ignore_exceptions=False\n",
    "):\n",
    "    \"\"\"\n",
    "    It takes a NeuronsDataset instance coming from an h5 dataset and extracts the features.\n",
    "\n",
    "    Params:\n",
    "\n",
    "        dataset: NeuronsDataset instance\n",
    "        save_path: where to save the csv file\n",
    "\n",
    "    Returns:\n",
    "\n",
    "        A dataframe with all the features for all the cells in the dataset.\n",
    "        This will include:\n",
    "            - neuron information (optolabel, data_path, unit)\n",
    "            - temporal features (15)\n",
    "            - waveform features (18)\n",
    "    \"\"\"\n",
    "\n",
    "    columns = [\n",
    "        \"label\",\n",
    "        \"dp\",\n",
    "        \"unit\",\n",
    "        \"mfr\",\n",
    "        \"mifr\",\n",
    "        \"med_isi\",\n",
    "        \"mode_isi\",\n",
    "        \"prct5ISI\",\n",
    "        \"entropy\",\n",
    "        \"CV2_mean\",\n",
    "        \"CV2_median\",\n",
    "        \"CV\",\n",
    "        \"IR\",\n",
    "        \"Lv\",\n",
    "        \"LvR\",\n",
    "        \"LcV\",\n",
    "        \"SI\",\n",
    "        \"SKW\",\n",
    "        \"relevant_channel\",\n",
    "        \"trough_voltage\",\n",
    "        \"trough_t\",\n",
    "        \"peak_voltage\",\n",
    "        \"peak_t\",\n",
    "        \"repolarisation_t\",\n",
    "        \"depolarisation_t\",\n",
    "        \"peak_50_width\",\n",
    "        \"trough_50_width\",\n",
    "        \"onset_t\",\n",
    "        \"onset_amp\",\n",
    "        \"wvf_width\",\n",
    "        \"peak_trough_ratio\",\n",
    "        \"recovery_slope\",\n",
    "        \"repolarisation_slope\",\n",
    "        \"depolarisation_slope\",\n",
    "        \"spatial_decay_24um\",\n",
    "        \"dendritic_comp_amp\",\n",
    "    ]\n",
    "\n",
    "    feat_df = pd.DataFrame(columns=columns)\n",
    "\n",
    "    for i in tqdm(range(len(dataset)), desc=\"Extracting features\"):\n",
    "        dp = \"/\".join(dataset.info[i].split(\"/\")[:-1])\n",
    "        unit = int(dataset.info[i].split(\"/\")[-1])\n",
    "        label = CORRESPONDENCE[dataset.targets[i]]\n",
    "        waveform = dataset.wf[i].reshape(dataset._n_channels, dataset._central_range)\n",
    "        spike_train = dataset.spikes_list[i]\n",
    "        try:\n",
    "            wvf_features = npyx.feat.new_waveform_features(waveform.T, dataset._n_channels//2)\n",
    "            tmp_features = npyx.feat.temp_feat(spike_train)\n",
    "\n",
    "            curr_feat = [label, dp, unit, *tmp_features, *wvf_features]\n",
    "            feat_df = feat_df.append(dict(zip(columns, curr_feat)), ignore_index=True)\n",
    "\n",
    "        except Exception as e:\n",
    "            exc_type, _, exc_tb = sys.exc_info()\n",
    "            print(\n",
    "                f\"Something went wrong for the feature computation of neuron {i} (unit {unit} in {dp})\"\n",
    "            )\n",
    "            print(f\"{exc_type} at line {exc_tb.tb_lineno}: {e}\")\n",
    "            if ignore_exceptions:\n",
    "                curr_feat = np.zeros(len(columns))\n",
    "                feat_df = feat_df.append(dict(zip(columns, curr_feat)), ignore_index=True)\n",
    "                continue\n",
    "            else:\n",
    "                raise\n",
    "            \n",
    "    feat_df = feat_df.infer_objects()\n",
    "    if save_path is None:\n",
    "        save_path = os.getcwd()\n",
    "        today = date.today().strftime(\"%b-%d-%Y\")\n",
    "        feat_df.to_csv(os.path.join(save_path, f\"{today}_all_features.csv\"))\n",
    "    else:\n",
    "        feat_df.to_csv(save_path)\n",
    "\n",
    "    return feat_df\n",
    "\n",
    "df = h5_feature_extraction(BASE_DATASET, ignore_exceptions=True)"
   ]
  },
  {
   "cell_type": "code",
   "execution_count": 6,
   "metadata": {},
   "outputs": [
    {
     "ename": "IndexError",
     "evalue": "index 919 is out of bounds for axis 0 with size 0",
     "output_type": "error",
     "traceback": [
      "\u001b[0;31m---------------------------------------------------------------------------\u001b[0m",
      "\u001b[0;31mIndexError\u001b[0m                                Traceback (most recent call last)",
      "\u001b[0;32m/tmp/ipykernel_628909/2306534730.py\u001b[0m in \u001b[0;36m<module>\u001b[0;34m\u001b[0m\n\u001b[0;32m----> 1\u001b[0;31m \u001b[0mtest_wave\u001b[0m \u001b[0;34m=\u001b[0m \u001b[0;34m(\u001b[0m\u001b[0mBASE_DATASET\u001b[0m\u001b[0;34m.\u001b[0m\u001b[0mwf\u001b[0m\u001b[0;34m[\u001b[0m\u001b[0;36m919\u001b[0m\u001b[0;34m]\u001b[0m\u001b[0;34m.\u001b[0m\u001b[0mreshape\u001b[0m\u001b[0;34m(\u001b[0m\u001b[0;36m10\u001b[0m\u001b[0;34m,\u001b[0m \u001b[0;36m82\u001b[0m\u001b[0;34m)\u001b[0m\u001b[0;34m)\u001b[0m\u001b[0;34m\u001b[0m\u001b[0;34m\u001b[0m\u001b[0m\n\u001b[0m\u001b[1;32m      2\u001b[0m relevant_waveform, somatic, relevant_channel = npyx.feat.find_relevant_waveform(\n\u001b[1;32m      3\u001b[0m         \u001b[0mtest_wave\u001b[0m\u001b[0;34m,\u001b[0m \u001b[0;36m11\u001b[0m\u001b[0;34m\u001b[0m\u001b[0;34m\u001b[0m\u001b[0m\n\u001b[1;32m      4\u001b[0m     )\n\u001b[1;32m      5\u001b[0m \u001b[0mrelevant_waveform\u001b[0m \u001b[0;34m=\u001b[0m \u001b[0mnpyx\u001b[0m\u001b[0;34m.\u001b[0m\u001b[0mfeat\u001b[0m\u001b[0;34m.\u001b[0m\u001b[0minterp_wave\u001b[0m\u001b[0;34m(\u001b[0m\u001b[0mrelevant_waveform\u001b[0m\u001b[0;34m)\u001b[0m\u001b[0;34m\u001b[0m\u001b[0;34m\u001b[0m\u001b[0m\n",
      "\u001b[0;31mIndexError\u001b[0m: index 919 is out of bounds for axis 0 with size 0"
     ]
    }
   ],
   "source": [
    "test_wave = (BASE_DATASET.wf[919].reshape(10, 82))\n",
    "relevant_waveform, somatic, relevant_channel = npyx.feat.find_relevant_waveform(\n",
    "        test_wave, 11\n",
    "    )\n",
    "relevant_waveform = npyx.feat.interp_wave(relevant_waveform)\n",
    "\n",
    "peak_times, peak_values = npyx.feat.detect_peaks(-relevant_waveform, plot_debug=True)"
   ]
  },
  {
   "cell_type": "code",
   "execution_count": null,
   "metadata": {},
   "outputs": [],
   "source": [
    "first_trough_t, first_peak_t = npyx.feat.find_relevant_peaks(peak_times, peak_values, 0.8 * np.std(relevant_waveform))"
   ]
  },
  {
   "cell_type": "code",
   "execution_count": 7,
   "metadata": {},
   "outputs": [
    {
     "ename": "NameError",
     "evalue": "name 'first_trough_t' is not defined",
     "output_type": "error",
     "traceback": [
      "\u001b[0;31m---------------------------------------------------------------------------\u001b[0m",
      "\u001b[0;31mNameError\u001b[0m                                 Traceback (most recent call last)",
      "\u001b[0;32m/tmp/ipykernel_628909/546543711.py\u001b[0m in \u001b[0;36m<module>\u001b[0;34m\u001b[0m\n\u001b[0;32m----> 1\u001b[0;31m \u001b[0mfirst_trough_t\u001b[0m\u001b[0;34m\u001b[0m\u001b[0;34m\u001b[0m\u001b[0m\n\u001b[0m",
      "\u001b[0;31mNameError\u001b[0m: name 'first_trough_t' is not defined"
     ]
    }
   ],
   "source": [
    "first_trough_t"
   ]
  },
  {
   "cell_type": "code",
   "execution_count": 8,
   "metadata": {},
   "outputs": [
    {
     "ename": "NameError",
     "evalue": "name 'first_peak_t' is not defined",
     "output_type": "error",
     "traceback": [
      "\u001b[0;31m---------------------------------------------------------------------------\u001b[0m",
      "\u001b[0;31mNameError\u001b[0m                                 Traceback (most recent call last)",
      "\u001b[0;32m/tmp/ipykernel_628909/729592181.py\u001b[0m in \u001b[0;36m<module>\u001b[0;34m\u001b[0m\n\u001b[0;32m----> 1\u001b[0;31m \u001b[0mfirst_peak_t\u001b[0m\u001b[0;34m\u001b[0m\u001b[0;34m\u001b[0m\u001b[0m\n\u001b[0m",
      "\u001b[0;31mNameError\u001b[0m: name 'first_peak_t' is not defined"
     ]
    }
   ],
   "source": [
    "first_peak_t"
   ]
  },
  {
   "cell_type": "code",
   "execution_count": 63,
   "metadata": {},
   "outputs": [
    {
     "data": {
      "text/plain": [
       "{5: 'PkC_cs',\n",
       " 4: 'PkC_ss',\n",
       " 3: 'MFB',\n",
       " 2: 'MLI',\n",
       " 1: 'GoC',\n",
       " 0: 'GrC',\n",
       " -1: 'unlabelled'}"
      ]
     },
     "execution_count": 63,
     "metadata": {},
     "output_type": "execute_result"
    }
   ],
   "source": [
    "CORRESPONDENCE"
   ]
  },
  {
   "cell_type": "code",
   "execution_count": 59,
   "metadata": {},
   "outputs": [
    {
     "data": {
      "text/plain": [
       "PkC_ss    205\n",
       "GoC       188\n",
       "PkC_cs    144\n",
       "MFB        86\n",
       "MLI        22\n",
       "dtype: int64"
      ]
     },
     "execution_count": 59,
     "metadata": {},
     "output_type": "execute_result"
    }
   ],
   "source": [
    "pd.Series(BASE_DATASET.targets).replace(CORRESPONDENCE).value_counts()"
   ]
  },
  {
   "cell_type": "code",
   "execution_count": 66,
   "metadata": {},
   "outputs": [
    {
     "data": {
      "text/plain": [
       "{5: 'PkC_cs',\n",
       " 4: 'PkC_ss',\n",
       " 3: 'MFB',\n",
       " 2: 'MLI',\n",
       " 1: 'GoC',\n",
       " 0: 'GrC',\n",
       " -1: 'unlabelled'}"
      ]
     },
     "execution_count": 66,
     "metadata": {},
     "output_type": "execute_result"
    }
   ],
   "source": [
    "CORRESPONDENCE"
   ]
  },
  {
   "cell_type": "code",
   "execution_count": 65,
   "metadata": {},
   "outputs": [
    {
     "data": {
      "text/plain": [
       "(array([1, 2, 3, 4, 5]), array([188,  22,  86, 205, 144]))"
      ]
     },
     "execution_count": 65,
     "metadata": {},
     "output_type": "execute_result"
    }
   ],
   "source": [
    "np.unique(BASE_DATASET.targets, return_counts=True)"
   ]
  },
  {
   "cell_type": "code",
   "execution_count": 67,
   "metadata": {},
   "outputs": [
    {
     "data": {
      "image/png": "[encoded data removed]",
      "text/plain": [
       "<Figure size 432x288 with 1 Axes>"
      ]
     },
     "metadata": {
      "needs_background": "light"
     },
     "output_type": "display_data"
    },
    {
     "data": {
      "text/plain": [
       "86"
      ]
     },
     "execution_count": 67,
     "metadata": {},
     "output_type": "execute_result"
    }
   ],
   "source": [
    "cnt=0\n",
    "for i, wf in enumerate(BASE_DATASET.wf):\n",
    "    if BASE_DATASET.targets[i] == 3:\n",
    "        cnt+=1\n",
    "        wf_image = wf.reshape(10, 82)\n",
    "        peak_channel = np.argmin(np.ptp(wf_image, axis = 1))\n",
    "        peak_wf = wf_image[peak_channel]\n",
    "        peak_wf = peak_wf / np.max(np.abs(peak_wf))\n",
    "        plt.plot(peak_wf, color=\"red\", alpha=0.5)\n",
    "plt.show()\n",
    "cnt\n"
   ]
  },
  {
   "cell_type": "code",
   "execution_count": 66,
   "metadata": {},
   "outputs": [
    {
     "data": {
      "text/plain": [
       "MFB       18\n",
       "PkC_ss    18\n",
       "MLI       13\n",
       "PkC_cs     5\n",
       "Name: label, dtype: int64"
      ]
     },
     "execution_count": 66,
     "metadata": {},
     "output_type": "execute_result"
    }
   ],
   "source": [
    "df['label'].value_counts()"
   ]
  },
  {
   "cell_type": "code",
   "execution_count": 4,
   "metadata": {},
   "outputs": [],
   "source": [
    "df = pd.read_csv('Oct-21-2022_all_features.csv')"
   ]
  },
  {
   "cell_type": "markdown",
   "metadata": {},
   "source": [
    "# Plotting dataset:"
   ]
  },
  {
   "cell_type": "code",
   "execution_count": 6,
   "metadata": {},
   "outputs": [
    {
     "data": {
      "application/vnd.plotly.v1+json": {
       "config": {
        "plotlyServerURL": "https://plot.ly"
       },
       "data": [
        {
         "cells": {
          "align": "center",
          "fill": {
           "color": [
            [
             "aliceblue",
             "antiquewhite",
             "aqua",
             "aquamarine",
             "azure",
             "beige",
             "bisque",
             "black",
             "blanchedalmond",
             "blue",
             "blueviolet",
             "brown",
             "burlywood",
             "cadetblue",
             "chartreuse",
             "chocolate",
             "coral",
             "cornflowerblue",
             "cornsilk",
             "crimson",
             "cyan",
             "darkblue",
             "darkcyan",
             "darkgoldenrod",
             "darkgray",
             "darkgrey",
             "darkgreen",
             "darkkhaki",
             "darkmagenta",
             "darkolivegreen",
             "darkorange",
             "darkorchid",
             "darkred",
             "darksalmon",
             "darkseagreen",
             "darkslateblue",
             "darkslategray",
             "darkslategrey",
             "darkturquoise",
             "darkviolet",
             "deeppink",
             "deepskyblue",
             "dimgray",
             "dimgrey",
             "dodgerblue",
             "firebrick",
             "floralwhite",
             "forestgreen",
             "fuchsia",
             "gainsboro",
             "ghostwhite",
             "gold",
             "goldenrod",
             "gray",
             "grey",
             "green",
             "greenyellow",
             "honeydew",
             "hotpink",
             "indianred",
             "indigo",
             "ivory",
             "khaki",
             "lavender",
             "lavenderblush",
             "lawngreen",
             "lemonchiffon",
             "lightblue",
             "lightcoral",
             "lightcyan",
             "lightgoldenrodyellow",
             "lightgray",
             "lightgrey",
             "lightgreen",
             "lightpink",
             "lightsalmon",
             "lightseagreen",
             "lightskyblue",
             "lightslategray",
             "lightslategrey",
             "lightsteelblue",
             "lightyellow",
             "lime",
             "limegreen",
             "linen",
             "magenta",
             "maroon",
             "mediumaquamarine",
             "mediumblue",
             "mediumorchid",
             "mediumpurple",
             "mediumseagreen",
             "mediumslateblue",
             "mediumspringgreen",
             "mediumturquoise",
             "mediumvioletred",
             "midnightblue",
             "mintcream",
             "mistyrose",
             "moccasin",
             "navajowhite",
             "navy",
             "oldlace",
             "olive",
             "olivedrab",
             "orange",
             "orangered",
             "orchid",
             "palegoldenrod",
             "palegreen",
             "paleturquoise",
             "palevioletred",
             "papayawhip",
             "peachpuff",
             "peru",
             "pink",
             "plum",
             "powderblue",
             "purple",
             "red",
             "rosybrown",
             "royalblue",
             "saddlebrown",
             "salmon",
             "sandybrown",
             "seagreen",
             "seashell",
             "sienna",
             "silver",
             "skyblue",
             "slateblue",
             "slategray",
             "slategrey",
             "snow",
             "springgreen",
             "steelblue",
             "tan",
             "teal",
             "thistle",
             "tomato",
             "turquoise",
             "violet",
             "wheat",
             "white",
             "whitesmoke",
             "yellow",
             "yellowgreen"
            ]
           ]
          },
          "font": {
           "color": "black",
           "size": 11
          },
          "line": {
           "color": [
            [
             "aliceblue",
             "antiquewhite",
             "aqua",
             "aquamarine",
             "azure",
             "beige",
             "bisque",
             "black",
             "blanchedalmond",
             "blue",
             "blueviolet",
             "brown",
             "burlywood",
             "cadetblue",
             "chartreuse",
             "chocolate",
             "coral",
             "cornflowerblue",
             "cornsilk",
             "crimson",
             "cyan",
             "darkblue",
             "darkcyan",
             "darkgoldenrod",
             "darkgray",
             "darkgrey",
             "darkgreen",
             "darkkhaki",
             "darkmagenta",
             "darkolivegreen",
             "darkorange",
             "darkorchid",
             "darkred",
             "darksalmon",
             "darkseagreen",
             "darkslateblue",
             "darkslategray",
             "darkslategrey",
             "darkturquoise",
             "darkviolet",
             "deeppink",
             "deepskyblue",
             "dimgray",
             "dimgrey",
             "dodgerblue",
             "firebrick",
             "floralwhite",
             "forestgreen",
             "fuchsia",
             "gainsboro",
             "ghostwhite",
             "gold",
             "goldenrod",
             "gray",
             "grey",
             "green",
             "greenyellow",
             "honeydew",
             "hotpink",
             "indianred",
             "indigo",
             "ivory",
             "khaki",
             "lavender",
             "lavenderblush",
             "lawngreen",
             "lemonchiffon",
             "lightblue",
             "lightcoral",
             "lightcyan",
             "lightgoldenrodyellow",
             "lightgray",
             "lightgrey",
             "lightgreen",
             "lightpink",
             "lightsalmon",
             "lightseagreen",
             "lightskyblue",
             "lightslategray",
             "lightslategrey",
             "lightsteelblue",
             "lightyellow",
             "lime",
             "limegreen",
             "linen",
             "magenta",
             "maroon",
             "mediumaquamarine",
             "mediumblue",
             "mediumorchid",
             "mediumpurple",
             "mediumseagreen",
             "mediumslateblue",
             "mediumspringgreen",
             "mediumturquoise",
             "mediumvioletred",
             "midnightblue",
             "mintcream",
             "mistyrose",
             "moccasin",
             "navajowhite",
             "navy",
             "oldlace",
             "olive",
             "olivedrab",
             "orange",
             "orangered",
             "orchid",
             "palegoldenrod",
             "palegreen",
             "paleturquoise",
             "palevioletred",
             "papayawhip",
             "peachpuff",
             "peru",
             "pink",
             "plum",
             "powderblue",
             "purple",
             "red",
             "rosybrown",
             "royalblue",
             "saddlebrown",
             "salmon",
             "sandybrown",
             "seagreen",
             "seashell",
             "sienna",
             "silver",
             "skyblue",
             "slateblue",
             "slategray",
             "slategrey",
             "snow",
             "springgreen",
             "steelblue",
             "tan",
             "teal",
             "thistle",
             "tomato",
             "turquoise",
             "violet",
             "wheat",
             "white",
             "whitesmoke",
             "yellow",
             "yellowgreen"
            ]
           ]
          },
          "values": [
           [
            "aliceblue",
            "antiquewhite",
            "aqua",
            "aquamarine",
            "azure",
            "beige",
            "bisque",
            "black",
            "blanchedalmond",
            "blue",
            "blueviolet",
            "brown",
            "burlywood",
            "cadetblue",
            "chartreuse",
            "chocolate",
            "coral",
            "cornflowerblue",
            "cornsilk",
            "crimson",
            "cyan",
            "darkblue",
            "darkcyan",
            "darkgoldenrod",
            "darkgray",
            "darkgrey",
            "darkgreen",
            "darkkhaki",
            "darkmagenta",
            "darkolivegreen",
            "darkorange",
            "darkorchid",
            "darkred",
            "darksalmon",
            "darkseagreen",
            "darkslateblue",
            "darkslategray",
            "darkslategrey",
            "darkturquoise",
            "darkviolet",
            "deeppink",
            "deepskyblue",
            "dimgray",
            "dimgrey",
            "dodgerblue",
            "firebrick",
            "floralwhite",
            "forestgreen",
            "fuchsia",
            "gainsboro",
            "ghostwhite",
            "gold",
            "goldenrod",
            "gray",
            "grey",
            "green",
            "greenyellow",
            "honeydew",
            "hotpink",
            "indianred",
            "indigo",
            "ivory",
            "khaki",
            "lavender",
            "lavenderblush",
            "lawngreen",
            "lemonchiffon",
            "lightblue",
            "lightcoral",
            "lightcyan",
            "lightgoldenrodyellow",
            "lightgray",
            "lightgrey",
            "lightgreen",
            "lightpink",
            "lightsalmon",
            "lightseagreen",
            "lightskyblue",
            "lightslategray",
            "lightslategrey",
            "lightsteelblue",
            "lightyellow",
            "lime",
            "limegreen",
            "linen",
            "magenta",
            "maroon",
            "mediumaquamarine",
            "mediumblue",
            "mediumorchid",
            "mediumpurple",
            "mediumseagreen",
            "mediumslateblue",
            "mediumspringgreen",
            "mediumturquoise",
            "mediumvioletred",
            "midnightblue",
            "mintcream",
            "mistyrose",
            "moccasin",
            "navajowhite",
            "navy",
            "oldlace",
            "olive",
            "olivedrab",
            "orange",
            "orangered",
            "orchid",
            "palegoldenrod",
            "palegreen",
            "paleturquoise",
            "palevioletred",
            "papayawhip",
            "peachpuff",
            "peru",
            "pink",
            "plum",
            "powderblue",
            "purple",
            "red",
            "rosybrown",
            "royalblue",
            "saddlebrown",
            "salmon",
            "sandybrown",
            "seagreen",
            "seashell",
            "sienna",
            "silver",
            "skyblue",
            "slateblue",
            "slategray",
            "slategrey",
            "snow",
            "springgreen",
            "steelblue",
            "tan",
            "teal",
            "thistle",
            "tomato",
            "turquoise",
            "violet",
            "wheat",
            "white",
            "whitesmoke",
            "yellow",
            "yellowgreen"
           ]
          ]
         },
         "header": {
          "align": "center",
          "fill": {
           "color": "white"
          },
          "font": {
           "color": "black",
           "size": 14
          },
          "line": {
           "color": "black"
          },
          "values": [
           "Plotly Named CSS colours"
          ]
         },
         "type": "table"
        }
       ],
       "layout": {
        "template": {
         "data": {
          "bar": [
           {
            "error_x": {
             "color": "#2a3f5f"
            },
            "error_y": {
             "color": "#2a3f5f"
            },
            "marker": {
             "line": {
              "color": "#E5ECF6",
              "width": 0.5
             },
             "pattern": {
              "fillmode": "overlay",
              "size": 10,
              "solidity": 0.2
             }
            },
            "type": "bar"
           }
          ],
          "barpolar": [
           {
            "marker": {
             "line": {
              "color": "#E5ECF6",
              "width": 0.5
             },
             "pattern": {
              "fillmode": "overlay",
              "size": 10,
              "solidity": 0.2
             }
            },
            "type": "barpolar"
           }
          ],
          "carpet": [
           {
            "aaxis": {
             "endlinecolor": "#2a3f5f",
             "gridcolor": "white",
             "linecolor": "white",
             "minorgridcolor": "white",
             "startlinecolor": "#2a3f5f"
            },
            "baxis": {
             "endlinecolor": "#2a3f5f",
             "gridcolor": "white",
             "linecolor": "white",
             "minorgridcolor": "white",
             "startlinecolor": "#2a3f5f"
            },
            "type": "carpet"
           }
          ],
          "choropleth": [
           {
            "colorbar": {
             "outlinewidth": 0,
             "ticks": ""
            },
            "type": "choropleth"
           }
          ],
          "contour": [
           {
            "colorbar": {
             "outlinewidth": 0,
             "ticks": ""
            },
            "colorscale": [
             [
              0,
              "#0d0887"
             ],
             [
              0.1111111111111111,
              "#46039f"
             ],
             [
              0.2222222222222222,
              "#7201a8"
             ],
             [
              0.3333333333333333,
              "#9c179e"
             ],
             [
              0.4444444444444444,
              "#bd3786"
             ],
             [
              0.5555555555555556,
              "#d8576b"
             ],
             [
              0.6666666666666666,
              "#ed7953"
             ],
             [
              0.7777777777777778,
              "#fb9f3a"
             ],
             [
              0.8888888888888888,
              "#fdca26"
             ],
             [
              1,
              "#f0f921"
             ]
            ],
            "type": "contour"
           }
          ],
          "contourcarpet": [
           {
            "colorbar": {
             "outlinewidth": 0,
             "ticks": ""
            },
            "type": "contourcarpet"
           }
          ],
          "heatmap": [
           {
            "colorbar": {
             "outlinewidth": 0,
             "ticks": ""
            },
            "colorscale": [
             [
              0,
              "#0d0887"
             ],
             [
              0.1111111111111111,
              "#46039f"
             ],
             [
              0.2222222222222222,
              "#7201a8"
             ],
             [
              0.3333333333333333,
              "#9c179e"
             ],
             [
              0.4444444444444444,
              "#bd3786"
             ],
             [
              0.5555555555555556,
              "#d8576b"
             ],
             [
              0.6666666666666666,
              "#ed7953"
             ],
             [
              0.7777777777777778,
              "#fb9f3a"
             ],
             [
              0.8888888888888888,
              "#fdca26"
             ],
             [
              1,
              "#f0f921"
             ]
            ],
            "type": "heatmap"
           }
          ],
          "heatmapgl": [
           {
            "colorbar": {
             "outlinewidth": 0,
             "ticks": ""
            },
            "colorscale": [
             [
              0,
              "#0d0887"
             ],
             [
              0.1111111111111111,
              "#46039f"
             ],
             [
              0.2222222222222222,
              "#7201a8"
             ],
             [
              0.3333333333333333,
              "#9c179e"
             ],
             [
              0.4444444444444444,
              "#bd3786"
             ],
             [
              0.5555555555555556,
              "#d8576b"
             ],
             [
              0.6666666666666666,
              "#ed7953"
             ],
             [
              0.7777777777777778,
              "#fb9f3a"
             ],
             [
              0.8888888888888888,
              "#fdca26"
             ],
             [
              1,
              "#f0f921"
             ]
            ],
            "type": "heatmapgl"
           }
          ],
          "histogram": [
           {
            "marker": {
             "pattern": {
              "fillmode": "overlay",
              "size": 10,
              "solidity": 0.2
             }
            },
            "type": "histogram"
           }
          ],
          "histogram2d": [
           {
            "colorbar": {
             "outlinewidth": 0,
             "ticks": ""
            },
            "colorscale": [
             [
              0,
              "#0d0887"
             ],
             [
              0.1111111111111111,
              "#46039f"
             ],
             [
              0.2222222222222222,
              "#7201a8"
             ],
             [
              0.3333333333333333,
              "#9c179e"
             ],
             [
              0.4444444444444444,
              "#bd3786"
             ],
             [
              0.5555555555555556,
              "#d8576b"
             ],
             [
              0.6666666666666666,
              "#ed7953"
             ],
             [
              0.7777777777777778,
              "#fb9f3a"
             ],
             [
              0.8888888888888888,
              "#fdca26"
             ],
             [
              1,
              "#f0f921"
             ]
            ],
            "type": "histogram2d"
           }
          ],
          "histogram2dcontour": [
           {
            "colorbar": {
             "outlinewidth": 0,
             "ticks": ""
            },
            "colorscale": [
             [
              0,
              "#0d0887"
             ],
             [
              0.1111111111111111,
              "#46039f"
             ],
             [
              0.2222222222222222,
              "#7201a8"
             ],
             [
              0.3333333333333333,
              "#9c179e"
             ],
             [
              0.4444444444444444,
              "#bd3786"
             ],
             [
              0.5555555555555556,
              "#d8576b"
             ],
             [
              0.6666666666666666,
              "#ed7953"
             ],
             [
              0.7777777777777778,
              "#fb9f3a"
             ],
             [
              0.8888888888888888,
              "#fdca26"
             ],
             [
              1,
              "#f0f921"
             ]
            ],
            "type": "histogram2dcontour"
           }
          ],
          "mesh3d": [
           {
            "colorbar": {
             "outlinewidth": 0,
             "ticks": ""
            },
            "type": "mesh3d"
           }
          ],
          "parcoords": [
           {
            "line": {
             "colorbar": {
              "outlinewidth": 0,
              "ticks": ""
             }
            },
            "type": "parcoords"
           }
          ],
          "pie": [
           {
            "automargin": true,
            "type": "pie"
           }
          ],
          "scatter": [
           {
            "fillpattern": {
             "fillmode": "overlay",
             "size": 10,
             "solidity": 0.2
            },
            "type": "scatter"
           }
          ],
          "scatter3d": [
           {
            "line": {
             "colorbar": {
              "outlinewidth": 0,
              "ticks": ""
             }
            },
            "marker": {
             "colorbar": {
              "outlinewidth": 0,
              "ticks": ""
             }
            },
            "type": "scatter3d"
           }
          ],
          "scattercarpet": [
           {
            "marker": {
             "colorbar": {
              "outlinewidth": 0,
              "ticks": ""
             }
            },
            "type": "scattercarpet"
           }
          ],
          "scattergeo": [
           {
            "marker": {
             "colorbar": {
              "outlinewidth": 0,
              "ticks": ""
             }
            },
            "type": "scattergeo"
           }
          ],
          "scattergl": [
           {
            "marker": {
             "colorbar": {
              "outlinewidth": 0,
              "ticks": ""
             }
            },
            "type": "scattergl"
           }
          ],
          "scattermapbox": [
           {
            "marker": {
             "colorbar": {
              "outlinewidth": 0,
              "ticks": ""
             }
            },
            "type": "scattermapbox"
           }
          ],
          "scatterpolar": [
           {
            "marker": {
             "colorbar": {
              "outlinewidth": 0,
              "ticks": ""
             }
            },
            "type": "scatterpolar"
           }
          ],
          "scatterpolargl": [
           {
            "marker": {
             "colorbar": {
              "outlinewidth": 0,
              "ticks": ""
             }
            },
            "type": "scatterpolargl"
           }
          ],
          "scatterternary": [
           {
            "marker": {
             "colorbar": {
              "outlinewidth": 0,
              "ticks": ""
             }
            },
            "type": "scatterternary"
           }
          ],
          "surface": [
           {
            "colorbar": {
             "outlinewidth": 0,
             "ticks": ""
            },
            "colorscale": [
             [
              0,
              "#0d0887"
             ],
             [
              0.1111111111111111,
              "#46039f"
             ],
             [
              0.2222222222222222,
              "#7201a8"
             ],
             [
              0.3333333333333333,
              "#9c179e"
             ],
             [
              0.4444444444444444,
              "#bd3786"
             ],
             [
              0.5555555555555556,
              "#d8576b"
             ],
             [
              0.6666666666666666,
              "#ed7953"
             ],
             [
              0.7777777777777778,
              "#fb9f3a"
             ],
             [
              0.8888888888888888,
              "#fdca26"
             ],
             [
              1,
              "#f0f921"
             ]
            ],
            "type": "surface"
           }
          ],
          "table": [
           {
            "cells": {
             "fill": {
              "color": "#EBF0F8"
             },
             "line": {
              "color": "white"
             }
            },
            "header": {
             "fill": {
              "color": "#C8D4E3"
             },
             "line": {
              "color": "white"
             }
            },
            "type": "table"
           }
          ]
         },
         "layout": {
          "annotationdefaults": {
           "arrowcolor": "#2a3f5f",
           "arrowhead": 0,
           "arrowwidth": 1
          },
          "autotypenumbers": "strict",
          "coloraxis": {
           "colorbar": {
            "outlinewidth": 0,
            "ticks": ""
           }
          },
          "colorscale": {
           "diverging": [
            [
             0,
             "#8e0152"
            ],
            [
             0.1,
             "#c51b7d"
            ],
            [
             0.2,
             "#de77ae"
            ],
            [
             0.3,
             "#f1b6da"
            ],
            [
             0.4,
             "#fde0ef"
            ],
            [
             0.5,
             "#f7f7f7"
            ],
            [
             0.6,
             "#e6f5d0"
            ],
            [
             0.7,
             "#b8e186"
            ],
            [
             0.8,
             "#7fbc41"
            ],
            [
             0.9,
             "#4d9221"
            ],
            [
             1,
             "#276419"
            ]
           ],
           "sequential": [
            [
             0,
             "#0d0887"
            ],
            [
             0.1111111111111111,
             "#46039f"
            ],
            [
             0.2222222222222222,
             "#7201a8"
            ],
            [
             0.3333333333333333,
             "#9c179e"
            ],
            [
             0.4444444444444444,
             "#bd3786"
            ],
            [
             0.5555555555555556,
             "#d8576b"
            ],
            [
             0.6666666666666666,
             "#ed7953"
            ],
            [
             0.7777777777777778,
             "#fb9f3a"
            ],
            [
             0.8888888888888888,
             "#fdca26"
            ],
            [
             1,
             "#f0f921"
            ]
           ],
           "sequentialminus": [
            [
             0,
             "#0d0887"
            ],
            [
             0.1111111111111111,
             "#46039f"
            ],
            [
             0.2222222222222222,
             "#7201a8"
            ],
            [
             0.3333333333333333,
             "#9c179e"
            ],
            [
             0.4444444444444444,
             "#bd3786"
            ],
            [
             0.5555555555555556,
             "#d8576b"
            ],
            [
             0.6666666666666666,
             "#ed7953"
            ],
            [
             0.7777777777777778,
             "#fb9f3a"
            ],
            [
             0.8888888888888888,
             "#fdca26"
            ],
            [
             1,
             "#f0f921"
            ]
           ]
          },
          "colorway": [
           "#636efa",
           "#EF553B",
           "#00cc96",
           "#ab63fa",
           "#FFA15A",
           "#19d3f3",
           "#FF6692",
           "#B6E880",
           "#FF97FF",
           "#FECB52"
          ],
          "font": {
           "color": "#2a3f5f"
          },
          "geo": {
           "bgcolor": "white",
           "lakecolor": "white",
           "landcolor": "#E5ECF6",
           "showlakes": true,
           "showland": true,
           "subunitcolor": "white"
          },
          "hoverlabel": {
           "align": "left"
          },
          "hovermode": "closest",
          "mapbox": {
           "style": "light"
          },
          "paper_bgcolor": "white",
          "plot_bgcolor": "#E5ECF6",
          "polar": {
           "angularaxis": {
            "gridcolor": "white",
            "linecolor": "white",
            "ticks": ""
           },
           "bgcolor": "#E5ECF6",
           "radialaxis": {
            "gridcolor": "white",
            "linecolor": "white",
            "ticks": ""
           }
          },
          "scene": {
           "xaxis": {
            "backgroundcolor": "#E5ECF6",
            "gridcolor": "white",
            "gridwidth": 2,
            "linecolor": "white",
            "showbackground": true,
            "ticks": "",
            "zerolinecolor": "white"
           },
           "yaxis": {
            "backgroundcolor": "#E5ECF6",
            "gridcolor": "white",
            "gridwidth": 2,
            "linecolor": "white",
            "showbackground": true,
            "ticks": "",
            "zerolinecolor": "white"
           },
           "zaxis": {
            "backgroundcolor": "#E5ECF6",
            "gridcolor": "white",
            "gridwidth": 2,
            "linecolor": "white",
            "showbackground": true,
            "ticks": "",
            "zerolinecolor": "white"
           }
          },
          "shapedefaults": {
           "line": {
            "color": "#2a3f5f"
           }
          },
          "ternary": {
           "aaxis": {
            "gridcolor": "white",
            "linecolor": "white",
            "ticks": ""
           },
           "baxis": {
            "gridcolor": "white",
            "linecolor": "white",
            "ticks": ""
           },
           "bgcolor": "#E5ECF6",
           "caxis": {
            "gridcolor": "white",
            "linecolor": "white",
            "ticks": ""
           }
          },
          "title": {
           "x": 0.05
          },
          "xaxis": {
           "automargin": true,
           "gridcolor": "white",
           "linecolor": "white",
           "ticks": "",
           "title": {
            "standoff": 15
           },
           "zerolinecolor": "white",
           "zerolinewidth": 2
          },
          "yaxis": {
           "automargin": true,
           "gridcolor": "white",
           "linecolor": "white",
           "ticks": "",
           "title": {
            "standoff": 15
           },
           "zerolinecolor": "white",
           "zerolinewidth": 2
          }
         }
        }
       }
      }
     },
     "metadata": {},
     "output_type": "display_data"
    }
   ],
   "source": [
    "def show_named_plotly_colours():\n",
    "    \"\"\"\n",
    "    function to display to user the colours to match plotly's named\n",
    "    css colours.\n",
    "\n",
    "    Reference:\n",
    "        #https://community.plotly.com/t/plotly-colours-list/11730/3\n",
    "\n",
    "    Returns:\n",
    "        plotly dataframe with cell colour to match named colour name\n",
    "\n",
    "    \"\"\"\n",
    "    s='''\n",
    "        aliceblue, antiquewhite, aqua, aquamarine, azure,\n",
    "        beige, bisque, black, blanchedalmond, blue,\n",
    "        blueviolet, brown, burlywood, cadetblue,\n",
    "        chartreuse, chocolate, coral, cornflowerblue,\n",
    "        cornsilk, crimson, cyan, darkblue, darkcyan,\n",
    "        darkgoldenrod, darkgray, darkgrey, darkgreen,\n",
    "        darkkhaki, darkmagenta, darkolivegreen, darkorange,\n",
    "        darkorchid, darkred, darksalmon, darkseagreen,\n",
    "        darkslateblue, darkslategray, darkslategrey,\n",
    "        darkturquoise, darkviolet, deeppink, deepskyblue,\n",
    "        dimgray, dimgrey, dodgerblue, firebrick,\n",
    "        floralwhite, forestgreen, fuchsia, gainsboro,\n",
    "        ghostwhite, gold, goldenrod, gray, grey, green,\n",
    "        greenyellow, honeydew, hotpink, indianred, indigo,\n",
    "        ivory, khaki, lavender, lavenderblush, lawngreen,\n",
    "        lemonchiffon, lightblue, lightcoral, lightcyan,\n",
    "        lightgoldenrodyellow, lightgray, lightgrey,\n",
    "        lightgreen, lightpink, lightsalmon, lightseagreen,\n",
    "        lightskyblue, lightslategray, lightslategrey,\n",
    "        lightsteelblue, lightyellow, lime, limegreen,\n",
    "        linen, magenta, maroon, mediumaquamarine,\n",
    "        mediumblue, mediumorchid, mediumpurple,\n",
    "        mediumseagreen, mediumslateblue, mediumspringgreen,\n",
    "        mediumturquoise, mediumvioletred, midnightblue,\n",
    "        mintcream, mistyrose, moccasin, navajowhite, navy,\n",
    "        oldlace, olive, olivedrab, orange, orangered,\n",
    "        orchid, palegoldenrod, palegreen, paleturquoise,\n",
    "        palevioletred, papayawhip, peachpuff, peru, pink,\n",
    "        plum, powderblue, purple, red, rosybrown,\n",
    "        royalblue, saddlebrown, salmon, sandybrown,\n",
    "        seagreen, seashell, sienna, silver, skyblue,\n",
    "        slateblue, slategray, slategrey, snow, springgreen,\n",
    "        steelblue, tan, teal, thistle, tomato, turquoise,\n",
    "        violet, wheat, white, whitesmoke, yellow,\n",
    "        yellowgreen\n",
    "        '''\n",
    "    li=s.split(',')\n",
    "    li=[l.replace('\\n','') for l in li]\n",
    "    li=[l.replace(' ','') for l in li]\n",
    "\n",
    "    import pandas as pd\n",
    "    import plotly.graph_objects as go\n",
    "\n",
    "    df=pd.DataFrame.from_dict({'colour': li})\n",
    "    fig = go.Figure(data=[go.Table(\n",
    "      header=dict(\n",
    "        values=[\"Plotly Named CSS colours\"],\n",
    "        line_color='black', fill_color='white',\n",
    "        align='center', font=dict(color='black', size=14)\n",
    "      ),\n",
    "      cells=dict(\n",
    "        values=[df.colour],\n",
    "        line_color=[df.colour], fill_color=[df.colour],\n",
    "        align='center', font=dict(color='black', size=11)\n",
    "      ))\n",
    "    ])\n",
    "\n",
    "    fig.show()\n",
    "show_named_plotly_colours()"
   ]
  },
  {
   "cell_type": "code",
   "execution_count": 21,
   "metadata": {},
   "outputs": [],
   "source": [
    "def make_plotting_df(df: pd.DataFrame, save: bool = True, save_path: str = None) -> pd.DataFrame:\n",
    "    dataframe = df.copy()\n",
    "    colors_dict = {\n",
    "        \"PkC_cs\": \"orangered\",\n",
    "        \"PkC_ss\": \"darkblue\",\n",
    "        \"GoC\": \"darkgreen\",\n",
    "        \"GrC\": \"saddlebrown\",\n",
    "        \"MLI\": \"crimson\",\n",
    "        \"MFB\": \"indigo\",\n",
    "    }\n",
    "    # colors_dict = {\n",
    "    #     \"PkC_cs\": \"orange\",\n",
    "    #     \"PkC_ss\": \"blue\",\n",
    "    #     \"GoC\": \"green\",\n",
    "    #     \"GrC\": \"brown\",\n",
    "    #     \"MLI\": \"red\",\n",
    "    #     \"MFB\": \"purple\",\n",
    "    # }\n",
    "    # Add an 'absolute id' like column for plotting purposes, so that each neuron has an unique identifier\n",
    "    abs_id = np.arange(len(dataframe))\n",
    "    \n",
    "    #! Mind this hacky thing\n",
    "    abs_id = np.array([\"101\" + str(x) for x in abs_id], dtype=int)\n",
    "    dataframe.insert(loc=0, column=\"plotting_id\", value=abs_id)\n",
    "    \n",
    "    new_df = pd.DataFrame(\n",
    "        columns=[\n",
    "            \"label\",\n",
    "            \"feature\",\n",
    "            \"normalised_value\",\n",
    "            \"raw_value\",\n",
    "            \"dp\",\n",
    "            \"unit\",\n",
    "            \"color\",\n",
    "            \"plotting_id\",\n",
    "        ]\n",
    "    )\n",
    "\n",
    "    # Why the hard-coded 4? The first 4 columns in the df are metadata (dp, unit, plotting_id, label)\n",
    "    for i, column in enumerate(dataframe.columns[4:]):\n",
    "        mean_data = (dataframe[column].to_numpy()).mean()\n",
    "        std_data = (dataframe[column].to_numpy()).std()\n",
    "        norm_data = (dataframe[column].to_numpy() - mean_data) / std_data\n",
    "        raw_data = dataframe[column].to_numpy()\n",
    "        labels = dataframe[\"label\"].to_numpy()\n",
    "        feature = [dataframe.columns[i + 4]] * len(norm_data)\n",
    "        dp = dataframe[\"dp\"].to_numpy()\n",
    "        unit = dataframe[\"unit\"].to_numpy()\n",
    "        color = [colors_dict[label] for label in labels]\n",
    "        plotting_id = dataframe[\"plotting_id\"].to_numpy()\n",
    "        \n",
    "        feat_df = pd.DataFrame(\n",
    "            {\n",
    "                \"label\": labels,\n",
    "                \"feature\": feature,\n",
    "                \"normalised_value\": norm_data,\n",
    "                \"raw_value\": raw_data,\n",
    "                \"dp\": dp,\n",
    "                \"unit\": unit,\n",
    "                \"color\": color,\n",
    "                \"plotting_id\": plotting_id,\n",
    "            }\n",
    "        )\n",
    "        new_df = pd.concat([new_df, feat_df], ignore_index=True)\n",
    "\n",
    "    # Finally assign color grey to neurons with invalid temporal features\n",
    "    zero_temporal = new_df[new_df[\"raw_value\"] == 0.][\"unit\"].value_counts()\n",
    "    zero_units = (zero_temporal[zero_temporal>5]).index.to_numpy()\n",
    "    new_df.loc[new_df[\"unit\"].isin(zero_units), \"color\"] = \"gray\"\n",
    "    \n",
    "    # Save if the option is requested\n",
    "    if save:\n",
    "        today = date.today().strftime(\"%b-%d-%Y\")\n",
    "        if save_path is None:\n",
    "            new_df.to_csv(f\"{today}_dashboard_features.csv\")\n",
    "        else:\n",
    "            new_df.to_csv(f\"{save_path}/{today}_dashboard_features.csv\")\n",
    "    \n",
    "    \n",
    "    \n",
    "    return new_df\n"
   ]
  },
  {
   "cell_type": "code",
   "execution_count": 22,
   "metadata": {},
   "outputs": [],
   "source": [
    "all_features = make_plotting_df(df)"
   ]
  },
  {
   "cell_type": "code",
   "execution_count": 17,
   "metadata": {},
   "outputs": [
    {
     "data": {
      "text/html": [
       "<div>\n",
       "<style scoped>\n",
       "    .dataframe tbody tr th:only-of-type {\n",
       "        vertical-align: middle;\n",
       "    }\n",
       "\n",
       "    .dataframe tbody tr th {\n",
       "        vertical-align: top;\n",
       "    }\n",
       "\n",
       "    .dataframe thead th {\n",
       "        text-align: right;\n",
       "    }\n",
       "</style>\n",
       "<table border=\"1\" class=\"dataframe\">\n",
       "  <thead>\n",
       "    <tr style=\"text-align: right;\">\n",
       "      <th></th>\n",
       "      <th>label</th>\n",
       "      <th>feature</th>\n",
       "      <th>normalised_value</th>\n",
       "      <th>raw_value</th>\n",
       "      <th>dp</th>\n",
       "      <th>unit</th>\n",
       "      <th>color</th>\n",
       "      <th>plotting_id</th>\n",
       "    </tr>\n",
       "  </thead>\n",
       "  <tbody>\n",
       "    <tr>\n",
       "      <th>0</th>\n",
       "      <td>PkC_ss</td>\n",
       "      <td>mfr</td>\n",
       "      <td>2.051858</td>\n",
       "      <td>125.656166</td>\n",
       "      <td>18-08-30_YC001_probe1</td>\n",
       "      <td>431</td>\n",
       "      <td>blue</td>\n",
       "      <td>0</td>\n",
       "    </tr>\n",
       "    <tr>\n",
       "      <th>1</th>\n",
       "      <td>PkC_ss</td>\n",
       "      <td>mfr</td>\n",
       "      <td>2.211343</td>\n",
       "      <td>132.470983</td>\n",
       "      <td>18-08-30_YC001_probe1</td>\n",
       "      <td>437</td>\n",
       "      <td>blue</td>\n",
       "      <td>1</td>\n",
       "    </tr>\n",
       "    <tr>\n",
       "      <th>2</th>\n",
       "      <td>PkC_ss</td>\n",
       "      <td>mfr</td>\n",
       "      <td>0.693383</td>\n",
       "      <td>67.608422</td>\n",
       "      <td>18-08-30_YC001_probe1</td>\n",
       "      <td>487</td>\n",
       "      <td>blue</td>\n",
       "      <td>2</td>\n",
       "    </tr>\n",
       "    <tr>\n",
       "      <th>3</th>\n",
       "      <td>PkC_ss</td>\n",
       "      <td>mfr</td>\n",
       "      <td>0.864402</td>\n",
       "      <td>74.916070</td>\n",
       "      <td>18-08-30_YC001_probe1</td>\n",
       "      <td>492</td>\n",
       "      <td>blue</td>\n",
       "      <td>3</td>\n",
       "    </tr>\n",
       "    <tr>\n",
       "      <th>4</th>\n",
       "      <td>PkC_ss</td>\n",
       "      <td>mfr</td>\n",
       "      <td>0.724644</td>\n",
       "      <td>68.944211</td>\n",
       "      <td>18-08-30_YC001_probe1</td>\n",
       "      <td>494</td>\n",
       "      <td>blue</td>\n",
       "      <td>4</td>\n",
       "    </tr>\n",
       "    <tr>\n",
       "      <th>...</th>\n",
       "      <td>...</td>\n",
       "      <td>...</td>\n",
       "      <td>...</td>\n",
       "      <td>...</td>\n",
       "      <td>...</td>\n",
       "      <td>...</td>\n",
       "      <td>...</td>\n",
       "      <td>...</td>\n",
       "    </tr>\n",
       "    <tr>\n",
       "      <th>3394</th>\n",
       "      <td>MLI</td>\n",
       "      <td>dendritic_comp_amp</td>\n",
       "      <td>-0.456639</td>\n",
       "      <td>3.095684</td>\n",
       "      <td>19-12-13_YC007_probe1</td>\n",
       "      <td>273</td>\n",
       "      <td>red</td>\n",
       "      <td>98</td>\n",
       "    </tr>\n",
       "    <tr>\n",
       "      <th>3395</th>\n",
       "      <td>MLI</td>\n",
       "      <td>dendritic_comp_amp</td>\n",
       "      <td>0.679416</td>\n",
       "      <td>35.147131</td>\n",
       "      <td>19-12-13_YC007_probe1</td>\n",
       "      <td>300</td>\n",
       "      <td>red</td>\n",
       "      <td>99</td>\n",
       "    </tr>\n",
       "    <tr>\n",
       "      <th>3396</th>\n",
       "      <td>MLI</td>\n",
       "      <td>dendritic_comp_amp</td>\n",
       "      <td>1.002273</td>\n",
       "      <td>44.255900</td>\n",
       "      <td>19-12-13_YC007_probe1</td>\n",
       "      <td>503</td>\n",
       "      <td>red</td>\n",
       "      <td>100</td>\n",
       "    </tr>\n",
       "    <tr>\n",
       "      <th>3397</th>\n",
       "      <td>MLI</td>\n",
       "      <td>dendritic_comp_amp</td>\n",
       "      <td>-0.473893</td>\n",
       "      <td>2.608879</td>\n",
       "      <td>22-08-13_MO042</td>\n",
       "      <td>420</td>\n",
       "      <td>red</td>\n",
       "      <td>101</td>\n",
       "    </tr>\n",
       "    <tr>\n",
       "      <th>3398</th>\n",
       "      <td>MLI</td>\n",
       "      <td>dendritic_comp_amp</td>\n",
       "      <td>-0.433420</td>\n",
       "      <td>3.750756</td>\n",
       "      <td>22-08-13_MO042</td>\n",
       "      <td>347</td>\n",
       "      <td>red</td>\n",
       "      <td>102</td>\n",
       "    </tr>\n",
       "  </tbody>\n",
       "</table>\n",
       "<p>3399 rows × 8 columns</p>\n",
       "</div>"
      ],
      "text/plain": [
       "       label             feature  normalised_value   raw_value  \\\n",
       "0     PkC_ss                 mfr          2.051858  125.656166   \n",
       "1     PkC_ss                 mfr          2.211343  132.470983   \n",
       "2     PkC_ss                 mfr          0.693383   67.608422   \n",
       "3     PkC_ss                 mfr          0.864402   74.916070   \n",
       "4     PkC_ss                 mfr          0.724644   68.944211   \n",
       "...      ...                 ...               ...         ...   \n",
       "3394     MLI  dendritic_comp_amp         -0.456639    3.095684   \n",
       "3395     MLI  dendritic_comp_amp          0.679416   35.147131   \n",
       "3396     MLI  dendritic_comp_amp          1.002273   44.255900   \n",
       "3397     MLI  dendritic_comp_amp         -0.473893    2.608879   \n",
       "3398     MLI  dendritic_comp_amp         -0.433420    3.750756   \n",
       "\n",
       "                         dp unit color plotting_id  \n",
       "0     18-08-30_YC001_probe1  431  blue           0  \n",
       "1     18-08-30_YC001_probe1  437  blue           1  \n",
       "2     18-08-30_YC001_probe1  487  blue           2  \n",
       "3     18-08-30_YC001_probe1  492  blue           3  \n",
       "4     18-08-30_YC001_probe1  494  blue           4  \n",
       "...                     ...  ...   ...         ...  \n",
       "3394  19-12-13_YC007_probe1  273   red          98  \n",
       "3395  19-12-13_YC007_probe1  300   red          99  \n",
       "3396  19-12-13_YC007_probe1  503   red         100  \n",
       "3397         22-08-13_MO042  420   red         101  \n",
       "3398         22-08-13_MO042  347   red         102  \n",
       "\n",
       "[3399 rows x 8 columns]"
      ]
     },
     "execution_count": 17,
     "metadata": {},
     "output_type": "execute_result"
    }
   ],
   "source": [
    "all_features"
   ]
  },
  {
   "cell_type": "markdown",
   "metadata": {},
   "source": [
    "## Plots generation\n",
    "\n",
    "Includes: waveforms, acgs, features plots and amplitude plots."
   ]
  },
  {
   "cell_type": "code",
   "execution_count": 9,
   "metadata": {},
   "outputs": [],
   "source": [
    "def save_acg(spike_train, unit_n, save_name=None):\n",
    "    if save_name is None:\n",
    "        raise NotImplementedError(\"Please specify a save name\")\n",
    "\n",
    "    # Get the spike train in the spontaneous period that meets false positive and false negative criteria.\n",
    "    \n",
    "    if len(spike_train.ravel()) > 1:\n",
    "        plt.figure()\n",
    "        npyx.plot.plot_acg(\"hello\", unit_n, train=spike_train, figsize=(5, 4.5))\n",
    "\n",
    "        plt.savefig(f\"{save_name}-acg.pdf\", format=\"pdf\")\n",
    "        plt.close()\n",
    "    else:\n",
    "        fig = plt.figure()\n",
    "        ax = fig.add_subplot()\n",
    "        fig.subplots_adjust(top=0.85)\n",
    "        ax.axis([0, 10, 0, 10])\n",
    "        ax.text(\n",
    "            3,\n",
    "            5,\n",
    "            \"No usable train \\n after quality checks\",\n",
    "            style=\"italic\",\n",
    "            bbox={\"facecolor\": \"red\", \"alpha\": 0.4, \"pad\": 10},\n",
    "        )\n",
    "        plt.savefig(f\"{save_name}-acg.pdf\", format=\"pdf\", bbox_inches=\"tight\")\n",
    "        plt.close()\n",
    "\n",
    "\n",
    "def save_wvf(waveform, save_name=None):\n",
    "    if save_name is None:\n",
    "        raise NotImplementedError(\"Please specify a save name\")\n",
    "\n",
    "    plt.figure()\n",
    "    npyx.plot.plt_wvf(waveform, figh_inch=6, figw_inch=5)\n",
    "\n",
    "    plt.savefig(f\"{save_name}-wvf.pdf\", format=\"pdf\", bbox_inches=\"tight\")\n",
    "    plt.close()\n",
    "\n",
    "\n",
    "def save_feat(waveform, save_name=None):\n",
    "    plt.rcParams[\"figure.figsize\"] = [3.50, 2.50]\n",
    "    plt.rcParams[\"figure.autolayout\"] = True\n",
    "    \n",
    "    if save_name is None:\n",
    "        raise NotImplementedError(\"Please specify a save name\")\n",
    "\n",
    "    wave, somatic, channel = npyx.feat.find_relevant_waveform(waveform, N_CHANNELS//2)\n",
    "\n",
    "    plt.figure()\n",
    "    npyx.feat.plot_all(wave)\n",
    "\n",
    "    plt.savefig(f\"{save_name}-feat.pdf\", format=\"pdf\", bbox_inches=\"tight\")\n",
    "    plt.close()\n",
    "\n",
    "def save_amplitudes(times, amplitudes, dpi=300, save_name=None):\n",
    "    \n",
    "    if save_name is None:\n",
    "        raise NotImplementedError(\"Please specify a save name\")\n",
    "    \n",
    "    #! Hacky duplicate handling (should be fixed in npyx)!!!\n",
    "    if len(times) > len(amplitudes):\n",
    "        times = times[:len(amplitudes)]\n",
    "    if len(amplitudes) > len(times):\n",
    "        amplitudes = amplitudes[:len(times)]\n",
    "        \n",
    "    fig, ax = plt.subplots(1,2, figsize=(12, 5), sharey=True,  gridspec_kw={'width_ratios': [3, 1]})\n",
    "    ax[0].plot(times / (30000 * 60), amplitudes, marker=\"o\", markersize=2, linestyle=\"None\")\n",
    "    ax[0].set_xlabel(\"Time (min)\")\n",
    "    ax[0].set_ylabel(r\"Amplitude ($\\mu$V)\")\n",
    "    ax[0].spines[\"top\"].set_visible(False)\n",
    "    ax[0].spines[\"right\"].set_visible(False)\n",
    "\n",
    "    ax[1].hist(amplitudes, bins=200, orientation=\"horizontal\")\n",
    "    ax[1].set_xlabel(\"Count\")\n",
    "    ax[1].spines[\"top\"].set_visible(False)\n",
    "    ax[1].spines[\"right\"].set_visible(False)\n",
    "    plt.tight_layout()\n",
    "    plt.savefig(f\"{save_name}-amplitudes.png\", format=\"png\", dpi=dpi, bbox_inches=\"tight\")\n",
    "    plt.close()"
   ]
  },
  {
   "cell_type": "code",
   "execution_count": 24,
   "metadata": {},
   "outputs": [
    {
     "data": {
      "text/plain": [
       "<Figure size 252x180 with 0 Axes>"
      ]
     },
     "metadata": {},
     "output_type": "display_data"
    },
    {
     "data": {
      "text/plain": [
       "<Figure size 252x180 with 0 Axes>"
      ]
     },
     "metadata": {},
     "output_type": "display_data"
    },
    {
     "data": {
      "text/plain": [
       "<Figure size 252x180 with 0 Axes>"
      ]
     },
     "metadata": {},
     "output_type": "display_data"
    },
    {
     "data": {
      "text/plain": [
       "<Figure size 252x180 with 0 Axes>"
      ]
     },
     "metadata": {},
     "output_type": "display_data"
    },
    {
     "data": {
      "text/plain": [
       "<Figure size 252x180 with 0 Axes>"
      ]
     },
     "metadata": {},
     "output_type": "display_data"
    },
    {
     "data": {
      "text/plain": [
       "<Figure size 252x180 with 0 Axes>"
      ]
     },
     "metadata": {},
     "output_type": "display_data"
    },
    {
     "data": {
      "text/plain": [
       "<Figure size 252x180 with 0 Axes>"
      ]
     },
     "metadata": {},
     "output_type": "display_data"
    },
    {
     "data": {
      "text/plain": [
       "<Figure size 252x180 with 0 Axes>"
      ]
     },
     "metadata": {},
     "output_type": "display_data"
    },
    {
     "data": {
      "text/plain": [
       "<Figure size 252x180 with 0 Axes>"
      ]
     },
     "metadata": {},
     "output_type": "display_data"
    },
    {
     "data": {
      "text/plain": [
       "<Figure size 252x180 with 0 Axes>"
      ]
     },
     "metadata": {},
     "output_type": "display_data"
    },
    {
     "data": {
      "text/plain": [
       "<Figure size 252x180 with 0 Axes>"
      ]
     },
     "metadata": {},
     "output_type": "display_data"
    },
    {
     "data": {
      "text/plain": [
       "<Figure size 252x180 with 0 Axes>"
      ]
     },
     "metadata": {},
     "output_type": "display_data"
    },
    {
     "data": {
      "text/plain": [
       "<Figure size 252x180 with 0 Axes>"
      ]
     },
     "metadata": {},
     "output_type": "display_data"
    },
    {
     "data": {
      "text/plain": [
       "<Figure size 252x180 with 0 Axes>"
      ]
     },
     "metadata": {},
     "output_type": "display_data"
    },
    {
     "data": {
      "text/plain": [
       "<Figure size 252x180 with 0 Axes>"
      ]
     },
     "metadata": {},
     "output_type": "display_data"
    },
    {
     "data": {
      "text/plain": [
       "<Figure size 252x180 with 0 Axes>"
      ]
     },
     "metadata": {},
     "output_type": "display_data"
    },
    {
     "data": {
      "text/plain": [
       "<Figure size 252x180 with 0 Axes>"
      ]
     },
     "metadata": {},
     "output_type": "display_data"
    },
    {
     "data": {
      "text/plain": [
       "<Figure size 252x180 with 0 Axes>"
      ]
     },
     "metadata": {},
     "output_type": "display_data"
    },
    {
     "data": {
      "text/plain": [
       "<Figure size 252x180 with 0 Axes>"
      ]
     },
     "metadata": {},
     "output_type": "display_data"
    },
    {
     "data": {
      "text/plain": [
       "<Figure size 252x180 with 0 Axes>"
      ]
     },
     "metadata": {},
     "output_type": "display_data"
    },
    {
     "data": {
      "text/plain": [
       "<Figure size 252x180 with 0 Axes>"
      ]
     },
     "metadata": {},
     "output_type": "display_data"
    },
    {
     "data": {
      "text/plain": [
       "<Figure size 252x180 with 0 Axes>"
      ]
     },
     "metadata": {},
     "output_type": "display_data"
    },
    {
     "data": {
      "text/plain": [
       "<Figure size 252x180 with 0 Axes>"
      ]
     },
     "metadata": {},
     "output_type": "display_data"
    },
    {
     "data": {
      "text/plain": [
       "<Figure size 252x180 with 0 Axes>"
      ]
     },
     "metadata": {},
     "output_type": "display_data"
    },
    {
     "data": {
      "text/plain": [
       "<Figure size 252x180 with 0 Axes>"
      ]
     },
     "metadata": {},
     "output_type": "display_data"
    },
    {
     "data": {
      "text/plain": [
       "<Figure size 252x180 with 0 Axes>"
      ]
     },
     "metadata": {},
     "output_type": "display_data"
    },
    {
     "data": {
      "text/plain": [
       "<Figure size 252x180 with 0 Axes>"
      ]
     },
     "metadata": {},
     "output_type": "display_data"
    },
    {
     "data": {
      "text/plain": [
       "<Figure size 252x180 with 0 Axes>"
      ]
     },
     "metadata": {},
     "output_type": "display_data"
    },
    {
     "data": {
      "text/plain": [
       "<Figure size 252x180 with 0 Axes>"
      ]
     },
     "metadata": {},
     "output_type": "display_data"
    },
    {
     "data": {
      "text/plain": [
       "<Figure size 252x180 with 0 Axes>"
      ]
     },
     "metadata": {},
     "output_type": "display_data"
    },
    {
     "data": {
      "text/plain": [
       "<Figure size 252x180 with 0 Axes>"
      ]
     },
     "metadata": {},
     "output_type": "display_data"
    },
    {
     "data": {
      "text/plain": [
       "<Figure size 252x180 with 0 Axes>"
      ]
     },
     "metadata": {},
     "output_type": "display_data"
    },
    {
     "data": {
      "text/plain": [
       "<Figure size 252x180 with 0 Axes>"
      ]
     },
     "metadata": {},
     "output_type": "display_data"
    },
    {
     "data": {
      "text/plain": [
       "<Figure size 252x180 with 0 Axes>"
      ]
     },
     "metadata": {},
     "output_type": "display_data"
    },
    {
     "data": {
      "text/plain": [
       "<Figure size 252x180 with 0 Axes>"
      ]
     },
     "metadata": {},
     "output_type": "display_data"
    },
    {
     "data": {
      "text/plain": [
       "<Figure size 252x180 with 0 Axes>"
      ]
     },
     "metadata": {},
     "output_type": "display_data"
    },
    {
     "data": {
      "text/plain": [
       "<Figure size 252x180 with 0 Axes>"
      ]
     },
     "metadata": {},
     "output_type": "display_data"
    },
    {
     "data": {
      "text/plain": [
       "<Figure size 252x180 with 0 Axes>"
      ]
     },
     "metadata": {},
     "output_type": "display_data"
    },
    {
     "data": {
      "text/plain": [
       "<Figure size 252x180 with 0 Axes>"
      ]
     },
     "metadata": {},
     "output_type": "display_data"
    },
    {
     "data": {
      "text/plain": [
       "<Figure size 252x180 with 0 Axes>"
      ]
     },
     "metadata": {},
     "output_type": "display_data"
    },
    {
     "data": {
      "text/plain": [
       "<Figure size 252x180 with 0 Axes>"
      ]
     },
     "metadata": {},
     "output_type": "display_data"
    },
    {
     "data": {
      "text/plain": [
       "<Figure size 252x180 with 0 Axes>"
      ]
     },
     "metadata": {},
     "output_type": "display_data"
    },
    {
     "data": {
      "text/plain": [
       "<Figure size 252x180 with 0 Axes>"
      ]
     },
     "metadata": {},
     "output_type": "display_data"
    },
    {
     "data": {
      "text/plain": [
       "<Figure size 252x180 with 0 Axes>"
      ]
     },
     "metadata": {},
     "output_type": "display_data"
    },
    {
     "data": {
      "text/plain": [
       "<Figure size 252x180 with 0 Axes>"
      ]
     },
     "metadata": {},
     "output_type": "display_data"
    },
    {
     "data": {
      "text/plain": [
       "<Figure size 252x180 with 0 Axes>"
      ]
     },
     "metadata": {},
     "output_type": "display_data"
    },
    {
     "data": {
      "text/plain": [
       "<Figure size 252x180 with 0 Axes>"
      ]
     },
     "metadata": {},
     "output_type": "display_data"
    },
    {
     "data": {
      "text/plain": [
       "<Figure size 252x180 with 0 Axes>"
      ]
     },
     "metadata": {},
     "output_type": "display_data"
    },
    {
     "data": {
      "text/plain": [
       "<Figure size 252x180 with 0 Axes>"
      ]
     },
     "metadata": {},
     "output_type": "display_data"
    },
    {
     "data": {
      "text/plain": [
       "<Figure size 252x180 with 0 Axes>"
      ]
     },
     "metadata": {},
     "output_type": "display_data"
    },
    {
     "data": {
      "text/plain": [
       "<Figure size 252x180 with 0 Axes>"
      ]
     },
     "metadata": {},
     "output_type": "display_data"
    },
    {
     "data": {
      "text/plain": [
       "<Figure size 252x180 with 0 Axes>"
      ]
     },
     "metadata": {},
     "output_type": "display_data"
    },
    {
     "data": {
      "text/plain": [
       "<Figure size 252x180 with 0 Axes>"
      ]
     },
     "metadata": {},
     "output_type": "display_data"
    },
    {
     "data": {
      "text/plain": [
       "<Figure size 252x180 with 0 Axes>"
      ]
     },
     "metadata": {},
     "output_type": "display_data"
    },
    {
     "data": {
      "text/plain": [
       "<Figure size 252x180 with 0 Axes>"
      ]
     },
     "metadata": {},
     "output_type": "display_data"
    },
    {
     "data": {
      "text/plain": [
       "<Figure size 252x180 with 0 Axes>"
      ]
     },
     "metadata": {},
     "output_type": "display_data"
    },
    {
     "data": {
      "text/plain": [
       "<Figure size 252x180 with 0 Axes>"
      ]
     },
     "metadata": {},
     "output_type": "display_data"
    },
    {
     "data": {
      "text/plain": [
       "<Figure size 252x180 with 0 Axes>"
      ]
     },
     "metadata": {},
     "output_type": "display_data"
    },
    {
     "data": {
      "text/plain": [
       "<Figure size 252x180 with 0 Axes>"
      ]
     },
     "metadata": {},
     "output_type": "display_data"
    },
    {
     "data": {
      "text/plain": [
       "<Figure size 252x180 with 0 Axes>"
      ]
     },
     "metadata": {},
     "output_type": "display_data"
    },
    {
     "data": {
      "text/plain": [
       "<Figure size 252x180 with 0 Axes>"
      ]
     },
     "metadata": {},
     "output_type": "display_data"
    },
    {
     "data": {
      "text/plain": [
       "<Figure size 252x180 with 0 Axes>"
      ]
     },
     "metadata": {},
     "output_type": "display_data"
    },
    {
     "data": {
      "text/plain": [
       "<Figure size 252x180 with 0 Axes>"
      ]
     },
     "metadata": {},
     "output_type": "display_data"
    },
    {
     "data": {
      "text/plain": [
       "<Figure size 252x180 with 0 Axes>"
      ]
     },
     "metadata": {},
     "output_type": "display_data"
    },
    {
     "data": {
      "text/plain": [
       "<Figure size 252x180 with 0 Axes>"
      ]
     },
     "metadata": {},
     "output_type": "display_data"
    },
    {
     "data": {
      "text/plain": [
       "<Figure size 252x180 with 0 Axes>"
      ]
     },
     "metadata": {},
     "output_type": "display_data"
    },
    {
     "data": {
      "text/plain": [
       "<Figure size 252x180 with 0 Axes>"
      ]
     },
     "metadata": {},
     "output_type": "display_data"
    },
    {
     "data": {
      "text/plain": [
       "<Figure size 252x180 with 0 Axes>"
      ]
     },
     "metadata": {},
     "output_type": "display_data"
    },
    {
     "data": {
      "text/plain": [
       "<Figure size 252x180 with 0 Axes>"
      ]
     },
     "metadata": {},
     "output_type": "display_data"
    },
    {
     "data": {
      "text/plain": [
       "<Figure size 252x180 with 0 Axes>"
      ]
     },
     "metadata": {},
     "output_type": "display_data"
    },
    {
     "data": {
      "text/plain": [
       "<Figure size 252x180 with 0 Axes>"
      ]
     },
     "metadata": {},
     "output_type": "display_data"
    },
    {
     "data": {
      "text/plain": [
       "<Figure size 252x180 with 0 Axes>"
      ]
     },
     "metadata": {},
     "output_type": "display_data"
    },
    {
     "data": {
      "text/plain": [
       "<Figure size 252x180 with 0 Axes>"
      ]
     },
     "metadata": {},
     "output_type": "display_data"
    },
    {
     "data": {
      "text/plain": [
       "<Figure size 252x180 with 0 Axes>"
      ]
     },
     "metadata": {},
     "output_type": "display_data"
    },
    {
     "data": {
      "text/plain": [
       "<Figure size 252x180 with 0 Axes>"
      ]
     },
     "metadata": {},
     "output_type": "display_data"
    },
    {
     "data": {
      "text/plain": [
       "<Figure size 252x180 with 0 Axes>"
      ]
     },
     "metadata": {},
     "output_type": "display_data"
    },
    {
     "data": {
      "text/plain": [
       "<Figure size 252x180 with 0 Axes>"
      ]
     },
     "metadata": {},
     "output_type": "display_data"
    },
    {
     "data": {
      "text/plain": [
       "<Figure size 252x180 with 0 Axes>"
      ]
     },
     "metadata": {},
     "output_type": "display_data"
    },
    {
     "data": {
      "text/plain": [
       "<Figure size 252x180 with 0 Axes>"
      ]
     },
     "metadata": {},
     "output_type": "display_data"
    },
    {
     "data": {
      "text/plain": [
       "<Figure size 252x180 with 0 Axes>"
      ]
     },
     "metadata": {},
     "output_type": "display_data"
    },
    {
     "data": {
      "text/plain": [
       "<Figure size 252x180 with 0 Axes>"
      ]
     },
     "metadata": {},
     "output_type": "display_data"
    },
    {
     "data": {
      "text/plain": [
       "<Figure size 252x180 with 0 Axes>"
      ]
     },
     "metadata": {},
     "output_type": "display_data"
    },
    {
     "data": {
      "text/plain": [
       "<Figure size 252x180 with 0 Axes>"
      ]
     },
     "metadata": {},
     "output_type": "display_data"
    },
    {
     "data": {
      "text/plain": [
       "<Figure size 252x180 with 0 Axes>"
      ]
     },
     "metadata": {},
     "output_type": "display_data"
    },
    {
     "data": {
      "text/plain": [
       "<Figure size 252x180 with 0 Axes>"
      ]
     },
     "metadata": {},
     "output_type": "display_data"
    },
    {
     "data": {
      "text/plain": [
       "<Figure size 252x180 with 0 Axes>"
      ]
     },
     "metadata": {},
     "output_type": "display_data"
    },
    {
     "data": {
      "text/plain": [
       "<Figure size 252x180 with 0 Axes>"
      ]
     },
     "metadata": {},
     "output_type": "display_data"
    },
    {
     "data": {
      "text/plain": [
       "<Figure size 252x180 with 0 Axes>"
      ]
     },
     "metadata": {},
     "output_type": "display_data"
    },
    {
     "data": {
      "text/plain": [
       "<Figure size 252x180 with 0 Axes>"
      ]
     },
     "metadata": {},
     "output_type": "display_data"
    },
    {
     "data": {
      "text/plain": [
       "<Figure size 252x180 with 0 Axes>"
      ]
     },
     "metadata": {},
     "output_type": "display_data"
    },
    {
     "data": {
      "text/plain": [
       "<Figure size 252x180 with 0 Axes>"
      ]
     },
     "metadata": {},
     "output_type": "display_data"
    },
    {
     "data": {
      "text/plain": [
       "<Figure size 252x180 with 0 Axes>"
      ]
     },
     "metadata": {},
     "output_type": "display_data"
    },
    {
     "data": {
      "text/plain": [
       "<Figure size 252x180 with 0 Axes>"
      ]
     },
     "metadata": {},
     "output_type": "display_data"
    },
    {
     "data": {
      "text/plain": [
       "<Figure size 252x180 with 0 Axes>"
      ]
     },
     "metadata": {},
     "output_type": "display_data"
    },
    {
     "data": {
      "text/plain": [
       "<Figure size 252x180 with 0 Axes>"
      ]
     },
     "metadata": {},
     "output_type": "display_data"
    },
    {
     "data": {
      "text/plain": [
       "<Figure size 252x180 with 0 Axes>"
      ]
     },
     "metadata": {},
     "output_type": "display_data"
    },
    {
     "data": {
      "text/plain": [
       "<Figure size 252x180 with 0 Axes>"
      ]
     },
     "metadata": {},
     "output_type": "display_data"
    },
    {
     "data": {
      "text/plain": [
       "<Figure size 252x180 with 0 Axes>"
      ]
     },
     "metadata": {},
     "output_type": "display_data"
    },
    {
     "data": {
      "text/plain": [
       "<Figure size 252x180 with 0 Axes>"
      ]
     },
     "metadata": {},
     "output_type": "display_data"
    },
    {
     "data": {
      "text/plain": [
       "<Figure size 252x180 with 0 Axes>"
      ]
     },
     "metadata": {},
     "output_type": "display_data"
    },
    {
     "data": {
      "text/plain": [
       "<Figure size 252x180 with 0 Axes>"
      ]
     },
     "metadata": {},
     "output_type": "display_data"
    },
    {
     "data": {
      "text/plain": [
       "<Figure size 252x180 with 0 Axes>"
      ]
     },
     "metadata": {},
     "output_type": "display_data"
    },
    {
     "data": {
      "text/plain": [
       "<Figure size 252x180 with 0 Axes>"
      ]
     },
     "metadata": {},
     "output_type": "display_data"
    },
    {
     "data": {
      "text/plain": [
       "<Figure size 252x180 with 0 Axes>"
      ]
     },
     "metadata": {},
     "output_type": "display_data"
    },
    {
     "data": {
      "text/plain": [
       "<Figure size 252x180 with 0 Axes>"
      ]
     },
     "metadata": {},
     "output_type": "display_data"
    },
    {
     "data": {
      "text/plain": [
       "<Figure size 252x180 with 0 Axes>"
      ]
     },
     "metadata": {},
     "output_type": "display_data"
    },
    {
     "data": {
      "text/plain": [
       "<Figure size 252x180 with 0 Axes>"
      ]
     },
     "metadata": {},
     "output_type": "display_data"
    },
    {
     "data": {
      "text/plain": [
       "<Figure size 252x180 with 0 Axes>"
      ]
     },
     "metadata": {},
     "output_type": "display_data"
    },
    {
     "data": {
      "text/plain": [
       "<Figure size 252x180 with 0 Axes>"
      ]
     },
     "metadata": {},
     "output_type": "display_data"
    },
    {
     "data": {
      "text/plain": [
       "<Figure size 252x180 with 0 Axes>"
      ]
     },
     "metadata": {},
     "output_type": "display_data"
    },
    {
     "data": {
      "text/plain": [
       "<Figure size 252x180 with 0 Axes>"
      ]
     },
     "metadata": {},
     "output_type": "display_data"
    },
    {
     "data": {
      "text/plain": [
       "<Figure size 252x180 with 0 Axes>"
      ]
     },
     "metadata": {},
     "output_type": "display_data"
    },
    {
     "data": {
      "text/plain": [
       "<Figure size 252x180 with 0 Axes>"
      ]
     },
     "metadata": {},
     "output_type": "display_data"
    },
    {
     "data": {
      "text/plain": [
       "<Figure size 252x180 with 0 Axes>"
      ]
     },
     "metadata": {},
     "output_type": "display_data"
    },
    {
     "data": {
      "text/plain": [
       "<Figure size 252x180 with 0 Axes>"
      ]
     },
     "metadata": {},
     "output_type": "display_data"
    },
    {
     "data": {
      "text/plain": [
       "<Figure size 252x180 with 0 Axes>"
      ]
     },
     "metadata": {},
     "output_type": "display_data"
    },
    {
     "data": {
      "text/plain": [
       "<Figure size 252x180 with 0 Axes>"
      ]
     },
     "metadata": {},
     "output_type": "display_data"
    },
    {
     "data": {
      "text/plain": [
       "<Figure size 252x180 with 0 Axes>"
      ]
     },
     "metadata": {},
     "output_type": "display_data"
    },
    {
     "data": {
      "text/plain": [
       "<Figure size 252x180 with 0 Axes>"
      ]
     },
     "metadata": {},
     "output_type": "display_data"
    },
    {
     "data": {
      "text/plain": [
       "<Figure size 252x180 with 0 Axes>"
      ]
     },
     "metadata": {},
     "output_type": "display_data"
    },
    {
     "data": {
      "text/plain": [
       "<Figure size 252x180 with 0 Axes>"
      ]
     },
     "metadata": {},
     "output_type": "display_data"
    },
    {
     "data": {
      "text/plain": [
       "<Figure size 252x180 with 0 Axes>"
      ]
     },
     "metadata": {},
     "output_type": "display_data"
    },
    {
     "data": {
      "text/plain": [
       "<Figure size 252x180 with 0 Axes>"
      ]
     },
     "metadata": {},
     "output_type": "display_data"
    },
    {
     "data": {
      "text/plain": [
       "<Figure size 252x180 with 0 Axes>"
      ]
     },
     "metadata": {},
     "output_type": "display_data"
    },
    {
     "data": {
      "text/plain": [
       "<Figure size 252x180 with 0 Axes>"
      ]
     },
     "metadata": {},
     "output_type": "display_data"
    },
    {
     "data": {
      "text/plain": [
       "<Figure size 252x180 with 0 Axes>"
      ]
     },
     "metadata": {},
     "output_type": "display_data"
    },
    {
     "data": {
      "text/plain": [
       "<Figure size 252x180 with 0 Axes>"
      ]
     },
     "metadata": {},
     "output_type": "display_data"
    },
    {
     "data": {
      "text/plain": [
       "<Figure size 252x180 with 0 Axes>"
      ]
     },
     "metadata": {},
     "output_type": "display_data"
    },
    {
     "data": {
      "text/plain": [
       "<Figure size 252x180 with 0 Axes>"
      ]
     },
     "metadata": {},
     "output_type": "display_data"
    },
    {
     "data": {
      "text/plain": [
       "<Figure size 252x180 with 0 Axes>"
      ]
     },
     "metadata": {},
     "output_type": "display_data"
    },
    {
     "data": {
      "text/plain": [
       "<Figure size 252x180 with 0 Axes>"
      ]
     },
     "metadata": {},
     "output_type": "display_data"
    },
    {
     "data": {
      "text/plain": [
       "<Figure size 252x180 with 0 Axes>"
      ]
     },
     "metadata": {},
     "output_type": "display_data"
    },
    {
     "data": {
      "text/plain": [
       "<Figure size 252x180 with 0 Axes>"
      ]
     },
     "metadata": {},
     "output_type": "display_data"
    },
    {
     "data": {
      "text/plain": [
       "<Figure size 252x180 with 0 Axes>"
      ]
     },
     "metadata": {},
     "output_type": "display_data"
    },
    {
     "data": {
      "text/plain": [
       "<Figure size 252x180 with 0 Axes>"
      ]
     },
     "metadata": {},
     "output_type": "display_data"
    },
    {
     "data": {
      "text/plain": [
       "<Figure size 252x180 with 0 Axes>"
      ]
     },
     "metadata": {},
     "output_type": "display_data"
    },
    {
     "data": {
      "text/plain": [
       "<Figure size 252x180 with 0 Axes>"
      ]
     },
     "metadata": {},
     "output_type": "display_data"
    },
    {
     "data": {
      "text/plain": [
       "<Figure size 252x180 with 0 Axes>"
      ]
     },
     "metadata": {},
     "output_type": "display_data"
    },
    {
     "data": {
      "text/plain": [
       "<Figure size 252x180 with 0 Axes>"
      ]
     },
     "metadata": {},
     "output_type": "display_data"
    },
    {
     "data": {
      "text/plain": [
       "<Figure size 252x180 with 0 Axes>"
      ]
     },
     "metadata": {},
     "output_type": "display_data"
    },
    {
     "data": {
      "text/plain": [
       "<Figure size 252x180 with 0 Axes>"
      ]
     },
     "metadata": {},
     "output_type": "display_data"
    },
    {
     "data": {
      "text/plain": [
       "<Figure size 252x180 with 0 Axes>"
      ]
     },
     "metadata": {},
     "output_type": "display_data"
    },
    {
     "data": {
      "text/plain": [
       "<Figure size 252x180 with 0 Axes>"
      ]
     },
     "metadata": {},
     "output_type": "display_data"
    },
    {
     "data": {
      "text/plain": [
       "<Figure size 252x180 with 0 Axes>"
      ]
     },
     "metadata": {},
     "output_type": "display_data"
    },
    {
     "data": {
      "text/plain": [
       "<Figure size 252x180 with 0 Axes>"
      ]
     },
     "metadata": {},
     "output_type": "display_data"
    },
    {
     "data": {
      "text/plain": [
       "<Figure size 252x180 with 0 Axes>"
      ]
     },
     "metadata": {},
     "output_type": "display_data"
    },
    {
     "data": {
      "text/plain": [
       "<Figure size 252x180 with 0 Axes>"
      ]
     },
     "metadata": {},
     "output_type": "display_data"
    },
    {
     "data": {
      "text/plain": [
       "<Figure size 252x180 with 0 Axes>"
      ]
     },
     "metadata": {},
     "output_type": "display_data"
    },
    {
     "data": {
      "text/plain": [
       "<Figure size 252x180 with 0 Axes>"
      ]
     },
     "metadata": {},
     "output_type": "display_data"
    },
    {
     "data": {
      "text/plain": [
       "<Figure size 252x180 with 0 Axes>"
      ]
     },
     "metadata": {},
     "output_type": "display_data"
    },
    {
     "data": {
      "text/plain": [
       "<Figure size 252x180 with 0 Axes>"
      ]
     },
     "metadata": {},
     "output_type": "display_data"
    },
    {
     "data": {
      "text/plain": [
       "<Figure size 252x180 with 0 Axes>"
      ]
     },
     "metadata": {},
     "output_type": "display_data"
    },
    {
     "data": {
      "text/plain": [
       "<Figure size 252x180 with 0 Axes>"
      ]
     },
     "metadata": {},
     "output_type": "display_data"
    },
    {
     "data": {
      "text/plain": [
       "<Figure size 252x180 with 0 Axes>"
      ]
     },
     "metadata": {},
     "output_type": "display_data"
    },
    {
     "data": {
      "text/plain": [
       "<Figure size 252x180 with 0 Axes>"
      ]
     },
     "metadata": {},
     "output_type": "display_data"
    },
    {
     "data": {
      "text/plain": [
       "<Figure size 252x180 with 0 Axes>"
      ]
     },
     "metadata": {},
     "output_type": "display_data"
    },
    {
     "data": {
      "text/plain": [
       "<Figure size 252x180 with 0 Axes>"
      ]
     },
     "metadata": {},
     "output_type": "display_data"
    },
    {
     "data": {
      "text/plain": [
       "<Figure size 252x180 with 0 Axes>"
      ]
     },
     "metadata": {},
     "output_type": "display_data"
    },
    {
     "data": {
      "text/plain": [
       "<Figure size 252x180 with 0 Axes>"
      ]
     },
     "metadata": {},
     "output_type": "display_data"
    },
    {
     "data": {
      "text/plain": [
       "<Figure size 252x180 with 0 Axes>"
      ]
     },
     "metadata": {},
     "output_type": "display_data"
    },
    {
     "data": {
      "text/plain": [
       "<Figure size 252x180 with 0 Axes>"
      ]
     },
     "metadata": {},
     "output_type": "display_data"
    },
    {
     "data": {
      "text/plain": [
       "<Figure size 252x180 with 0 Axes>"
      ]
     },
     "metadata": {},
     "output_type": "display_data"
    }
   ],
   "source": [
    "for plotting_id in tqdm(all_features[\"plotting_id\"].unique()):\n",
    "    save_id = plotting_id\n",
    "    plotting_id = int(str(plotting_id)[3:])\n",
    "    spike_train = BASE_DATASET.spikes_list[plotting_id]\n",
    "    waveform = BASE_DATASET.wf[plotting_id].reshape(N_CHANNELS, CENTRAL_RANGE)\n",
    "    amplitudes = BASE_DATASET.amplitudes_list[plotting_id]\n",
    "    save_acg(spike_train, int(plotting_id), save_name = f\"{str(save_id)}\")\n",
    "    save_wvf(waveform.T, save_name = f\"{str(save_id)}\")\n",
    "    save_feat(waveform, save_name = f\"{str(save_id)}\")\n",
    "    save_amplitudes(spike_train, amplitudes, save_name = f\"{str(save_id)}\")\n",
    "clear_output(wait=True)"
   ]
  },
  {
   "cell_type": "code",
   "execution_count": 52,
   "metadata": {},
   "outputs": [],
   "source": [
    "waveform = h5.get_neuron_attr(DATA_PATH, 1, \"mean_waveform_preprocessed\")"
   ]
  },
  {
   "cell_type": "code",
   "execution_count": 68,
   "metadata": {},
   "outputs": [
    {
     "data": {
      "image/png": "[encoded data removed]",
      "text/plain": [
       "<Figure size 252x180 with 1 Axes>"
      ]
     },
     "metadata": {
      "needs_background": "light"
     },
     "output_type": "display_data"
    },
    {
     "data": {
      "text/plain": [
       "(array([90, 93, 96]), array([ 136.5234375, -243.75     ,   79.453125 ]))"
      ]
     },
     "execution_count": 68,
     "metadata": {},
     "output_type": "execute_result"
    }
   ],
   "source": [
    "wave, _, _ = npyx.feat.find_relevant_waveform(waveform, 10)\n",
    "npyx.feat.detect_peaks(wave, plot_debug=True)"
   ]
  },
  {
   "cell_type": "code",
   "execution_count": 57,
   "metadata": {},
   "outputs": [],
   "source": [
    "a = np.array([1,2,3])"
   ]
  },
  {
   "cell_type": "code",
   "execution_count": 55,
   "metadata": {},
   "outputs": [
    {
     "data": {
      "text/plain": [
       "-42.0703125"
      ]
     },
     "execution_count": 55,
     "metadata": {},
     "output_type": "execute_result"
    }
   ],
   "source": [
    "np.min(wave)"
   ]
  },
  {
   "cell_type": "markdown",
   "metadata": {},
   "source": [
    "## Retrieve opto-plots\n",
    "## REQUIRES SERVER ACCESS!"
   ]
  },
  {
   "cell_type": "code",
   "execution_count": 11,
   "metadata": {},
   "outputs": [],
   "source": [
    "def fast_scandir(dirname, depth = 0):\n",
    "    subfolders= [f.path for f in os.scandir(dirname) if f.is_dir()]\n",
    "    for dirname in list(subfolders):\n",
    "        if depth < 3:\n",
    "            subfolders.extend(fast_scandir(dirname, depth=depth+1))\n",
    "    return subfolders"
   ]
  },
  {
   "cell_type": "code",
   "execution_count": 12,
   "metadata": {},
   "outputs": [],
   "source": [
    "recordings_folders = fast_scandir(\"/media/npyx/4TB_ssd1/optag_recordings/\")"
   ]
  },
  {
   "cell_type": "code",
   "execution_count": 13,
   "metadata": {},
   "outputs": [],
   "source": [
    "def copy_opto_plots(dp, unit, all_server_recordings, save_name=None):\n",
    "    if save_name is None:\n",
    "        save_name = str(unit)\n",
    "    global fail_list\n",
    "    recording_detailed = dp.split('/')[-1]\n",
    "    # recording_generic = dp.split('/')[-2]\n",
    "    server_path = None\n",
    "    for path in all_server_recordings:\n",
    "        if recording_detailed in path:\n",
    "            server_path = path\n",
    "            break\n",
    "            \n",
    "            \n",
    "    # if server_path is None:\n",
    "    #     for path in all_server_recordings:\n",
    "    #         if recording_generic in path:\n",
    "    #             server_path = path\n",
    "    #             break\n",
    "    if server_path is None:\n",
    "        print('------\\n', dp, unit, '\\n------')\n",
    "        fail_list.append([dp, unit])\n",
    "        return dp, unit\n",
    "    \n",
    "    try:\n",
    "        server_image_path = server_path + f'/opto_plots/{unit}_plots_combined.pdf'\n",
    "        target = f'{save_name}_opto_plots_combined.pdf'\n",
    "        shutil.copyfile(server_image_path, target)\n",
    "    except FileNotFoundError:\n",
    "        if server_path == '/mnt/MB_server/npix_data/optotagging/Back-Up-YYC_2019_optotagging/data/GoC/20-11-05_DK215':\n",
    "            server_image_path = f'/mnt/MB_server/npix_data/optotagging/Back-Up-YYC_2019_optotagging/data/GoC/20-11-05_DK215/20-11-05_DK215_g0/20-11-05_DK215_g0_imec0/opto_plots/{unit}_plots_combined.pdf'\n",
    "        elif server_path == '/mnt/MB_server/npix_data/optotagging/Back-Up-YYC_2019_optotagging/data/GoC/20-03-06_DK186':\n",
    "            if dp.split(\"/\")[-1] == '20-03-06_DK186_probe1':\n",
    "                server_image_path = f'/mnt/MB_server/npix_data/optotagging/Back-Up-YYC_2019_optotagging/data/GoC/20-03-06_DK186/DK186_GoC_run1_g0/DK186_GoC_run1_g0_imec0/ArtSubKS2.0_2/opto_plots/{unit}_plots_combined.pdf'\n",
    "            else:\n",
    "                server_image_path = f'/mnt/MB_server/npix_data/optotagging/Back-Up-YYC_2019_optotagging/data/GoC/20-03-06_DK186/DK186_GoC_run1_g0/DK186_GoC_run1_g0_imec1/ArtSubKS2.0/opto_plots/{unit}_plots_combined.pdf'\n",
    "        elif server_path == '/mnt/MB_server/npix_data/optotagging/Back-Up-YYC_2019_optotagging/data/MFB/20-07-21_DK206':\n",
    "            server_image_path = f\"/mnt/MB_server/npix_data/optotagging/Back-Up-YYC_2019_optotagging/data/MFB/20-07-21_DK206/200721_DK206_MFB_g0/200721_DK206_MFB_g0_imec0/ArtSubKS2.0/opto_plots/{unit}_plots_combined.pdf\"\n",
    "        else:\n",
    "            server_image_path = server_path + f'/ArtSubKS2.0/opto_plots/{unit}_plots_combined.pdf'\n",
    "            \n",
    "        target = f'{save_name}_opto_plots_combined.pdf'\n",
    "        try:\n",
    "            shutil.copyfile(server_image_path, target)\n",
    "        except FileNotFoundError:\n",
    "            print(server_image_path)\n",
    "            fail_list.append([dp, unit])\n",
    "            return dp, unit"
   ]
  },
  {
   "cell_type": "markdown",
   "metadata": {},
   "source": [
    "Do the copying and save the datasets for which we failed"
   ]
  },
  {
   "cell_type": "code",
   "execution_count": 14,
   "metadata": {},
   "outputs": [
    {
     "data": {
      "application/vnd.jupyter.widget-view+json": {
       "model_id": "b5a25dc80ae34d1fb1d8ee221781c767",
       "version_major": 2,
       "version_minor": 0
      },
      "text/plain": [
       "  0%|          | 0/96 [00:00<?, ?it/s]"
      ]
     },
     "metadata": {},
     "output_type": "display_data"
    }
   ],
   "source": [
    "fail_list = []\n",
    "for dp, unit, plotting_id in tqdm(zip(all_features['dp'].to_numpy()[:len(df)], all_features['unit'].to_numpy()[:len(df)], all_features['plotting_id'].to_numpy()[:len(df)]), total=len(df)):\n",
    "    copy_opto_plots(dp, unit, recordings_folders, save_name=str(plotting_id))"
   ]
  },
  {
   "cell_type": "code",
   "execution_count": 15,
   "metadata": {},
   "outputs": [
    {
     "data": {
      "text/plain": [
       "[]"
      ]
     },
     "execution_count": 15,
     "metadata": {},
     "output_type": "execute_result"
    }
   ],
   "source": [
    "fail_list"
   ]
  },
  {
   "cell_type": "code",
   "execution_count": null,
   "metadata": {},
   "outputs": [],
   "source": [
    "today = date.today().strftime(\"%b-%d-%Y\")\n",
    "h5.save(f'{today}-fail_list.pkl', fail_list)"
   ]
  },
  {
   "cell_type": "markdown",
   "metadata": {},
   "source": [
    "# Alternative opto plot scripts:\n",
    "\n",
    "Re-calculates the opto-plots for every neuron in the json file and saves it locally here."
   ]
  },
  {
   "cell_type": "code",
   "execution_count": 44,
   "metadata": {},
   "outputs": [],
   "source": [
    "def re_plot_opto_plots(json_path, overwrite=False):\n",
    "    with open(json_path) as f:\n",
    "        json_f = json.load(f)\n",
    "\n",
    "    # Check the json and do the optoplots at the same time\n",
    "    for dataset in tqdm(json_f.values(), desc='Re-plotting opto plots'):\n",
    "        data_path = dataset[\"dp\"]\n",
    "        dp = Path(data_path)\n",
    "        \n",
    "        if not dp.exists():\n",
    "            print(f\"\\033[31;1m{dp} doesn't exist!!\\033[0m\")\n",
    "            continue\n",
    "\n",
    "        units=dataset['units']\n",
    "        ss=dataset['ss']\n",
    "        cs=dataset['cs']\n",
    "        all_units = units + ss + cs\n",
    "        all_units_str = ' '.join(map(str, all_units))\n",
    "        \n",
    "        if \"YC012\" in data_path:\n",
    "            animal_name = \"YC012\"\n",
    "        elif \"MO027\" in data_path:\n",
    "            animal_name = \"MO027\"\n",
    "        elif \"MO042\" in data_path:\n",
    "            animal_name = \"MO042\"\n",
    "        else:\n",
    "            animal_name = data_path.split(\"/\")[-2].split(\"_\")[-1]\n",
    "        \n",
    "        script_path = \"/home/npyx/Dropbox/Notebooks/scripts/50ms-plots-faster.py\"\n",
    "        fig_dir = '/home/npyx/Dropbox/Notebooks/individual-plots'\n",
    "        \n",
    "        new_optoplots.make_plots(data_path, fig_dir, animal_name, 1, np.array(all_units), 'opto_plots', overwrite=overwrite)\n",
    "        \n",
    "        # os.system(f\"conda run -n npyx python {script_path} -dp '{data_path}' -save-dir 'opto_plots' -fig-dir '{fig_dir}' -mouse '{animal_name}' -startstim 1 -which 'good' --units {all_units_str}\")\n"
   ]
  },
  {
   "cell_type": "code",
   "execution_count": null,
   "metadata": {},
   "outputs": [],
   "source": [
    "re_plot_opto_plots(json_path)"
   ]
  },
  {
   "cell_type": "markdown",
   "metadata": {},
   "source": [
    "## Generate SVG files and move them to desktop"
   ]
  },
  {
   "cell_type": "code",
   "execution_count": 25,
   "metadata": {},
   "outputs": [
    {
     "data": {
      "application/vnd.jupyter.widget-view+json": {
       "model_id": "b39917c2dd7d406a92ebc9265c012e47",
       "version_major": 2,
       "version_minor": 0
      },
      "text/plain": [
       "  0%|          | 0/150 [00:00<?, ?it/s]"
      ]
     },
     "metadata": {},
     "output_type": "display_data"
    }
   ],
   "source": [
    "# Move amplitudes png plots to Desktop SVG folder\n",
    "\n",
    "home = str(Path.home())\n",
    "\n",
    "if not os.path.isdir(f\"{home}/Desktop/SVGs_SfN\"):\n",
    "    os.mkdir(f\"{home}/Desktop/SVGs_SfN\")\n",
    "\n",
    "for file in tqdm(glob.glob(\"*amplitudes.png\")):\n",
    "    filename = file.split(\".\")[0]\n",
    "    os.system(f\"mv {file} {home}/Desktop/SVGs_SfN\")"
   ]
  },
  {
   "cell_type": "code",
   "execution_count": 26,
   "metadata": {},
   "outputs": [
    {
     "data": {
      "application/vnd.jupyter.widget-view+json": {
       "model_id": "a4a9aa04c9e74490bdabcad13a498d46",
       "version_major": 2,
       "version_minor": 0
      },
      "text/plain": [
       "  0%|          | 0/547 [00:00<?, ?it/s]"
      ]
     },
     "metadata": {},
     "output_type": "display_data"
    },
    {
     "name": "stdout",
     "output_type": "stream",
     "text": [
      "\n",
      "39-acg_big.svg:\n",
      "Done in 276 ms!\n",
      "71.4 KiB - 58% = 29.953 KiB\n",
      "\n",
      "10142-wvf_big.svg:\n",
      "Done in 197 ms!\n",
      "41.789 KiB - 49.1% = 21.263 KiB\n",
      "\n",
      "77-acg_big.svg:\n",
      "Done in 202 ms!\n",
      "36.983 KiB - 46.7% = 19.728 KiB\n",
      "\n",
      "7-wvf_big.svg:\n",
      "Done in 191 ms!\n",
      "42.812 KiB - 48.8% = 21.904 KiB\n",
      "\n",
      "62-acg_big.svg:\n",
      "Done in 312 ms!\n",
      "69.98 KiB - 58.1% = 29.324 KiB\n",
      "\n",
      "10128-feat_big.svg:\n",
      "Done in 338 ms!\n",
      "57.886 KiB - 45% = 31.843 KiB\n",
      "\n",
      "45-feat_big.svg:\n",
      "Done in 310 ms!\n",
      "53.529 KiB - 45.3% = 29.27 KiB\n",
      "\n",
      "44-feat_big.svg:\n",
      "Done in 311 ms!\n",
      "54.542 KiB - 44.7% = 30.156 KiB\n",
      "\n",
      "67-feat_big.svg:\n",
      "Done in 326 ms!\n",
      "54.086 KiB - 44.8% = 29.84 KiB\n",
      "\n",
      "10120-wvf_big.svg:\n",
      "Done in 267 ms!\n",
      "44.408 KiB - 49% = 22.637 KiB\n",
      "\n",
      "1-acg_big.svg:\n",
      "Done in 365 ms!\n",
      "66.495 KiB - 59.2% = 27.105 KiB\n",
      "\n",
      "64-acg_big.svg:\n",
      "Done in 311 ms!\n",
      "88.744 KiB - 61.5% = 34.146 KiB\n",
      "\n",
      "54-feat_big.svg:\n",
      "Done in 341 ms!\n",
      "53.449 KiB - 45% = 29.397 KiB\n",
      "\n",
      "12-acg_big.svg:\n",
      "Done in 302 ms!\n",
      "89.161 KiB - 61.1% = 34.656 KiB\n",
      "\n",
      "10129-acg_big.svg:\n",
      "Done in 266 ms!\n",
      "71.786 KiB - 58.4% = 29.895 KiB\n",
      "\n",
      "10123-feat_big.svg:\n",
      "Done in 282 ms!\n",
      "55.887 KiB - 44.6% = 30.957 KiB\n",
      "\n",
      "12-feat_big.svg:\n",
      "Done in 273 ms!\n",
      "53.951 KiB - 44.7% = 29.819 KiB\n",
      "\n",
      "57-feat_big.svg:\n",
      "Done in 311 ms!\n",
      "54.531 KiB - 44.7% = 30.178 KiB\n",
      "\n",
      "71-acg_big.svg:\n",
      "Done in 269 ms!\n",
      "69.438 KiB - 58.3% = 28.988 KiB\n",
      "\n",
      "82-acg_big.svg:\n",
      "Done in 310 ms!\n",
      "90.849 KiB - 61.2% = 35.221 KiB\n",
      "\n",
      "79-acg_big.svg:\n",
      "Done in 178 ms!\n",
      "32.612 KiB - 42.5% = 18.738 KiB\n",
      "\n",
      "10121-acg_big.svg:\n",
      "Done in 246 ms!\n",
      "53.51 KiB - 54.7% = 24.265 KiB\n",
      "\n",
      "73-feat_big.svg:\n",
      "Done in 275 ms!\n",
      "55.968 KiB - 45.2% = 30.692 KiB\n",
      "\n",
      "29-wvf_big.svg:\n",
      "Done in 158 ms!\n",
      "41.486 KiB - 48.9% = 21.184 KiB\n",
      "\n",
      "10119-feat_big.svg:\n",
      "Done in 284 ms!\n",
      "55.699 KiB - 45.1% = 30.568 KiB\n",
      "\n",
      "10127-wvf_big.svg:\n",
      "Done in 158 ms!\n",
      "42.771 KiB - 49% = 21.801 KiB\n",
      "\n",
      "10150-feat_big.svg:\n",
      "Done in 265 ms!\n",
      "54.442 KiB - 45% = 29.926 KiB\n",
      "\n",
      "81-wvf_big.svg:\n",
      "Done in 174 ms!\n",
      "43.31 KiB - 49.1% = 22.047 KiB\n",
      "\n",
      "34-acg_big.svg:\n",
      "Done in 279 ms!\n",
      "69.313 KiB - 58.1% = 29.021 KiB\n",
      "\n",
      "10126-feat_big.svg:\n",
      "Done in 310 ms!\n",
      "55.51 KiB - 45.2% = 30.432 KiB\n",
      "\n",
      "23-wvf_big.svg:\n",
      "Done in 174 ms!\n",
      "41.785 KiB - 48.5% = 21.532 KiB\n",
      "\n",
      "1013-acg_big.svg:\n",
      "Done in 273 ms!\n",
      "68.234 KiB - 58.2% = 28.511 KiB\n",
      "\n",
      "1018-feat_big.svg:\n",
      "Done in 292 ms!\n",
      "54.91 KiB - 45% = 30.206 KiB\n",
      "\n",
      "10144-wvf_big.svg:\n",
      "Done in 173 ms!\n",
      "42.276 KiB - 49% = 21.559 KiB\n",
      "\n",
      "81-acg_big.svg:\n",
      "Done in 284 ms!\n",
      "69.492 KiB - 58.6% = 28.768 KiB\n",
      "\n",
      "3-acg_big.svg:\n",
      "Done in 287 ms!\n",
      "91.012 KiB - 61.5% = 35.083 KiB\n",
      "\n",
      "10-acg_big.svg:\n",
      "Done in 286 ms!\n",
      "89.775 KiB - 61.4% = 34.627 KiB\n",
      "\n",
      "66-acg_big.svg:\n",
      "Done in 302 ms!\n",
      "88.94 KiB - 61% = 34.71 KiB\n",
      "\n",
      "20-wvf_big.svg:\n",
      "Done in 163 ms!\n",
      "42.897 KiB - 48.8% = 21.975 KiB\n",
      "\n",
      "16-acg_big.svg:\n",
      "Done in 291 ms!\n",
      "71.443 KiB - 58.2% = 29.88 KiB\n",
      "\n",
      "35-feat_big.svg:\n",
      "Done in 274 ms!\n",
      "55.859 KiB - 45.1% = 30.692 KiB\n",
      "\n",
      "93-wvf_big.svg:\n",
      "Done in 198 ms!\n",
      "42.785 KiB - 49% = 21.816 KiB\n",
      "\n",
      "31-feat_big.svg:\n",
      "Done in 278 ms!\n",
      "56.991 KiB - 45.2% = 31.213 KiB\n",
      "\n",
      "6-feat_big.svg:\n",
      "Done in 280 ms!\n",
      "54.041 KiB - 44.9% = 29.801 KiB\n",
      "\n",
      "10148-wvf_big.svg:\n",
      "Done in 170 ms!\n",
      "42.784 KiB - 49.2% = 21.718 KiB\n",
      "\n",
      "13-wvf_big.svg:\n",
      "Done in 187 ms!\n",
      "42.562 KiB - 49% = 21.696 KiB\n",
      "\n",
      "84-feat_big.svg:\n",
      "Done in 277 ms!\n",
      "55.387 KiB - 44.8% = 30.562 KiB\n",
      "\n",
      "10142-acg_big.svg:\n",
      "Done in 330 ms!\n",
      "89.075 KiB - 61.8% = 33.991 KiB\n",
      "\n",
      "10117-wvf_big.svg:\n",
      "Done in 180 ms!\n",
      "43.332 KiB - 49.1% = 22.048 KiB\n",
      "\n",
      "61-feat_big.svg:\n",
      "Done in 327 ms!\n",
      "55.038 KiB - 44.9% = 30.313 KiB\n",
      "\n",
      "11-wvf_big.svg:\n",
      "Done in 157 ms!\n",
      "44.201 KiB - 48.9% = 22.565 KiB\n",
      "\n",
      "91-feat_big.svg:\n",
      "Done in 301 ms!\n",
      "56.17 KiB - 44.9% = 30.923 KiB\n",
      "\n",
      "3-feat_big.svg:\n",
      "Done in 282 ms!\n",
      "53.446 KiB - 45% = 29.381 KiB\n",
      "\n",
      "10141-feat_big.svg:\n",
      "Done in 304 ms!\n",
      "54.775 KiB - 44.9% = 30.157 KiB\n",
      "\n",
      "10133-wvf_big.svg:\n",
      "Done in 156 ms!\n",
      "41.521 KiB - 48.8% = 21.261 KiB\n",
      "\n",
      "10151-feat_big.svg:\n",
      "Done in 306 ms!\n",
      "55.563 KiB - 45.2% = 30.463 KiB\n",
      "\n",
      "1016-acg_big.svg:\n",
      "Done in 278 ms!\n",
      "87.635 KiB - 61.7% = 33.605 KiB\n",
      "\n",
      "10140-acg_big.svg:\n",
      "Done in 264 ms!\n",
      "71.614 KiB - 58.1% = 30.015 KiB\n",
      "\n",
      "10114-acg_big.svg:\n",
      "Done in 274 ms!\n",
      "88.21 KiB - 61.9% = 33.65 KiB\n",
      "\n",
      "80-acg_big.svg:\n",
      "Done in 204 ms!\n",
      "37.811 KiB - 45.5% = 20.605 KiB\n",
      "\n",
      "18-wvf_big.svg:\n",
      "Done in 165 ms!\n",
      "42.604 KiB - 48.8% = 21.816 KiB\n",
      "\n",
      "10138-acg_big.svg:\n",
      "Done in 307 ms!\n",
      "73.531 KiB - 58.4% = 30.596 KiB\n",
      "\n",
      "92-wvf_big.svg:\n",
      "Done in 175 ms!\n",
      "42.786 KiB - 48.9% = 21.873 KiB\n",
      "\n",
      "1017-acg_big.svg:\n",
      "Done in 253 ms!\n",
      "67.598 KiB - 59.6% = 27.324 KiB\n",
      "\n",
      "10129-wvf_big.svg:\n",
      "Done in 179 ms!\n",
      "41.394 KiB - 49% = 21.101 KiB\n",
      "\n",
      "78-feat_big.svg:\n",
      "Done in 282 ms!\n",
      "54.66 KiB - 45.5% = 29.764 KiB\n",
      "\n",
      "10129-feat_big.svg:\n",
      "Done in 275 ms!\n",
      "55.507 KiB - 44.9% = 30.581 KiB\n",
      "\n",
      "1019-feat_big.svg:\n",
      "Done in 278 ms!\n",
      "55.604 KiB - 44.4% = 30.926 KiB\n",
      "\n",
      "10137-feat_big.svg:\n",
      "Done in 288 ms!\n",
      "54.955 KiB - 44.8% = 30.313 KiB\n",
      "\n",
      "45-wvf_big.svg:\n",
      "Done in 180 ms!\n",
      "42.793 KiB - 48.9% = 21.882 KiB\n",
      "\n",
      "65-acg_big.svg:\n",
      "Done in 275 ms!\n",
      "71.162 KiB - 58.5% = 29.519 KiB\n",
      "\n",
      "10125-feat_big.svg:\n",
      "Done in 292 ms!\n",
      "56.339 KiB - 45% = 30.969 KiB\n",
      "\n",
      "85-acg_big.svg:\n",
      "Done in 303 ms!\n",
      "89.279 KiB - 61.3% = 34.537 KiB\n",
      "\n",
      "38-acg_big.svg:\n",
      "Done in 299 ms!\n",
      "74.182 KiB - 57.9% = 31.248 KiB\n",
      "\n",
      "27-acg_big.svg:\n",
      "Done in 291 ms!\n",
      "88.647 KiB - 62.2% = 33.478 KiB\n",
      "\n",
      "42-acg_big.svg:\n",
      "Done in 266 ms!\n",
      "86.703 KiB - 61.2% = 33.603 KiB\n",
      "\n",
      "21-acg_big.svg:\n",
      "Done in 214 ms!\n",
      "39.8 KiB - 46.7% = 21.229 KiB\n",
      "\n",
      "33-acg_big.svg:\n",
      "Done in 281 ms!\n",
      "86.137 KiB - 61.5% = 33.2 KiB\n",
      "\n",
      "80-feat_big.svg:\n",
      "Done in 272 ms!\n",
      "53.914 KiB - 44.8% = 29.786 KiB\n",
      "\n",
      "25-wvf_big.svg:\n",
      "Done in 188 ms!\n",
      "42.884 KiB - 48.6% = 22.063 KiB\n",
      "\n",
      "88-acg_big.svg:\n",
      "Done in 214 ms!\n",
      "38.669 KiB - 43.2% = 21.972 KiB\n",
      "\n",
      "1011-acg_big.svg:\n",
      "Done in 271 ms!\n",
      "70.746 KiB - 58.8% = 29.161 KiB\n",
      "\n",
      "10119-wvf_big.svg:\n",
      "Done in 183 ms!\n",
      "42.867 KiB - 48.6% = 22.039 KiB\n",
      "\n",
      "10138-feat_big.svg:\n",
      "Done in 286 ms!\n",
      "55.906 KiB - 45.1% = 30.678 KiB\n",
      "\n",
      "10123-acg_big.svg:\n",
      "Done in 305 ms!\n",
      "90.566 KiB - 61.4% = 34.945 KiB\n",
      "\n",
      "33-feat_big.svg:\n",
      "Done in 274 ms!\n",
      "53.98 KiB - 44.9% = 29.726 KiB\n",
      "\n",
      "10141-wvf_big.svg:\n",
      "Done in 171 ms!\n",
      "43.88 KiB - 49.2% = 22.307 KiB\n",
      "\n",
      "32-acg_big.svg:\n",
      "Done in 262 ms!\n",
      "70.069 KiB - 58.7% = 28.941 KiB\n",
      "\n",
      "46-feat_big.svg:\n",
      "Done in 289 ms!\n",
      "55.938 KiB - 44.8% = 30.904 KiB\n",
      "\n",
      "10-feat_big.svg:\n",
      "Done in 292 ms!\n",
      "53.369 KiB - 44.9% = 29.384 KiB\n",
      "\n",
      "10134-wvf_big.svg:\n",
      "Done in 175 ms!\n",
      "42.417 KiB - 48.7% = 21.77 KiB\n",
      "\n",
      "9-wvf_big.svg:\n",
      "Done in 192 ms!\n",
      "43.299 KiB - 48.8% = 22.168 KiB\n",
      "\n",
      "60-feat_big.svg:\n",
      "Done in 329 ms!\n",
      "55.442 KiB - 45% = 30.517 KiB\n",
      "\n",
      "90-acg_big.svg:\n",
      "Done in 305 ms!\n",
      "69.224 KiB - 57.3% = 29.576 KiB\n",
      "\n",
      "1017-feat_big.svg:\n",
      "Done in 278 ms!\n",
      "55.319 KiB - 45.8% = 30.007 KiB\n",
      "\n",
      "50-acg_big.svg:\n",
      "Done in 260 ms!\n",
      "71.607 KiB - 58.9% = 29.428 KiB\n",
      "\n",
      "26-acg_big.svg:\n",
      "Done in 256 ms!\n",
      "77.34 KiB - 59.7% = 31.169 KiB\n",
      "\n",
      "21-wvf_big.svg:\n",
      "Done in 170 ms!\n",
      "41.66 KiB - 48.7% = 21.389 KiB\n",
      "\n",
      "28-wvf_big.svg:\n",
      "Done in 172 ms!\n",
      "41.672 KiB - 49.2% = 21.159 KiB\n",
      "\n",
      "80-wvf_big.svg:\n",
      "Done in 177 ms!\n",
      "42.911 KiB - 48.7% = 22.011 KiB\n",
      "\n",
      "36-acg_big.svg:\n",
      "Done in 265 ms!\n",
      "89.117 KiB - 60.7% = 35.026 KiB\n",
      "\n",
      "71-feat_big.svg:\n",
      "Done in 282 ms!\n",
      "53.371 KiB - 45.5% = 29.094 KiB\n",
      "\n",
      "10152-acg_big.svg:\n",
      "Done in 252 ms!\n",
      "67.597 KiB - 58.8% = 27.842 KiB\n",
      "\n",
      "9-feat_big.svg:\n",
      "Done in 294 ms!\n",
      "56.743 KiB - 45.3% = 31.046 KiB\n",
      "\n",
      "1-feat_big.svg:\n",
      "Done in 282 ms!\n",
      "55.93 KiB - 45% = 30.76 KiB\n",
      "\n",
      "52-acg_big.svg:\n",
      "Done in 315 ms!\n",
      "88.46 KiB - 62.2% = 33.457 KiB\n",
      "\n",
      "10116-wvf_big.svg:\n",
      "Done in 158 ms!\n",
      "41.604 KiB - 48.9% = 21.249 KiB\n",
      "\n",
      "10132-acg_big.svg:\n",
      "Done in 279 ms!\n",
      "70.821 KiB - 58.9% = 29.1 KiB\n",
      "\n",
      "10149-wvf_big.svg:\n",
      "Done in 199 ms!\n",
      "42.803 KiB - 48.9% = 21.862 KiB\n",
      "\n",
      "69-acg_big.svg:\n",
      "Done in 353 ms!\n",
      "56.108 KiB - 53.8% = 25.899 KiB\n",
      "\n",
      "10125-wvf_big.svg:\n",
      "Done in 198 ms!\n",
      "42.736 KiB - 48.9% = 21.841 KiB\n",
      "\n",
      "10118-wvf_big.svg:\n",
      "Done in 190 ms!\n",
      "42.814 KiB - 48.8% = 21.935 KiB\n",
      "\n",
      "10130-feat_big.svg:\n",
      "Done in 320 ms!\n",
      "56.439 KiB - 44.9% = 31.101 KiB\n",
      "\n",
      "10148-acg_big.svg:\n",
      "Done in 284 ms!\n",
      "70.207 KiB - 57.9% = 29.563 KiB\n",
      "\n",
      "52-feat_big.svg:\n",
      "Done in 343 ms!\n",
      "54.109 KiB - 44.8% = 29.891 KiB\n",
      "\n",
      "30-wvf_big.svg:\n",
      "Done in 204 ms!\n",
      "42.383 KiB - 49.3% = 21.505 KiB\n",
      "\n",
      "59-wvf_big.svg:\n",
      "Done in 183 ms!\n",
      "43.253 KiB - 49% = 22.054 KiB\n",
      "\n",
      "43-wvf_big.svg:\n",
      "Done in 189 ms!\n",
      "41.558 KiB - 49.1% = 21.162 KiB\n",
      "\n",
      "1014-acg_big.svg:\n",
      "Done in 335 ms!\n",
      "87.553 KiB - 61.8% = 33.409 KiB\n",
      "\n",
      "89-acg_big.svg:\n",
      "Done in 230 ms!\n",
      "44.523 KiB - 49.9% = 22.323 KiB\n",
      "\n",
      "1018-acg_big.svg:\n",
      "Done in 281 ms!\n",
      "90.407 KiB - 61.4% = 34.868 KiB\n",
      "\n",
      "20-feat_big.svg:\n",
      "Done in 331 ms!\n",
      "56.88 KiB - 44.7% = 31.463 KiB\n",
      "\n",
      "10121-wvf_big.svg:\n",
      "Done in 186 ms!\n",
      "42.898 KiB - 48.8% = 21.943 KiB\n",
      "\n",
      "48-acg_big.svg:\n",
      "Done in 312 ms!\n",
      "90.408 KiB - 61.4% = 34.89 KiB\n",
      "\n",
      "63-acg_big.svg:\n",
      "Done in 298 ms!\n",
      "88.51 KiB - 59.7% = 35.644 KiB\n",
      "\n",
      "75-wvf_big.svg:\n",
      "Done in 187 ms!\n",
      "41.444 KiB - 49% = 21.117 KiB\n",
      "\n",
      "76-wvf_big.svg:\n",
      "Done in 224 ms!\n",
      "42.669 KiB - 48.8% = 21.86 KiB\n",
      "\n",
      "19-wvf_big.svg:\n",
      "Done in 227 ms!\n",
      "41.396 KiB - 48.4% = 21.36 KiB\n",
      "\n",
      "7-feat_big.svg:\n",
      "Done in 278 ms!\n",
      "56.093 KiB - 44.8% = 30.974 KiB\n",
      "\n",
      "10112-feat_big.svg:\n",
      "Done in 286 ms!\n",
      "56.004 KiB - 45.2% = 30.692 KiB\n",
      "\n",
      "10120-feat_big.svg:\n",
      "Done in 302 ms!\n",
      "57.248 KiB - 45.2% = 31.374 KiB\n",
      "\n",
      "10110-acg_big.svg:\n",
      "Done in 212 ms!\n",
      "43.704 KiB - 50% = 21.838 KiB\n",
      "\n",
      "29-feat_big.svg:\n",
      "Done in 311 ms!\n",
      "55.433 KiB - 44.8% = 30.575 KiB\n",
      "\n",
      "56-wvf_big.svg:\n",
      "Done in 160 ms!\n",
      "42.259 KiB - 48.5% = 21.757 KiB\n",
      "\n",
      "86-wvf_big.svg:\n",
      "Done in 239 ms!\n",
      "43.928 KiB - 48.7% = 22.515 KiB\n",
      "\n",
      "1018-wvf_big.svg:\n",
      "Done in 160 ms!\n",
      "43.605 KiB - 48.9% = 22.283 KiB\n",
      "\n",
      "1014-feat_big.svg:\n",
      "Done in 281 ms!\n",
      "56.144 KiB - 45.1% = 30.813 KiB\n",
      "\n",
      "41-wvf_big.svg:\n",
      "Done in 164 ms!\n",
      "41.572 KiB - 48.8% = 21.283 KiB\n",
      "\n",
      "10140-feat_big.svg:\n",
      "Done in 289 ms!\n",
      "53.886 KiB - 44.9% = 29.716 KiB\n",
      "\n",
      "51-feat_big.svg:\n",
      "Done in 305 ms!\n",
      "54.951 KiB - 44.6% = 30.437 KiB\n",
      "\n",
      "10115-wvf_big.svg:\n",
      "Done in 175 ms!\n",
      "42.87 KiB - 49% = 21.856 KiB\n",
      "\n",
      "94-feat_big.svg:\n",
      "Done in 308 ms!\n",
      "55.879 KiB - 45.1% = 30.66 KiB\n",
      "\n",
      "22-wvf_big.svg:\n",
      "Done in 214 ms!\n",
      "43.767 KiB - 48.8% = 22.408 KiB\n",
      "\n",
      "23-feat_big.svg:\n",
      "Done in 266 ms!\n",
      "53.448 KiB - 45.7% = 29.022 KiB\n",
      "\n",
      "92-feat_big.svg:\n",
      "Done in 332 ms!\n",
      "55.432 KiB - 45.2% = 30.372 KiB\n",
      "\n",
      "93-acg_big.svg:\n",
      "Done in 265 ms!\n",
      "71.895 KiB - 56.9% = 30.979 KiB\n",
      "\n",
      "51-wvf_big.svg:\n",
      "Done in 167 ms!\n",
      "42.973 KiB - 48.9% = 21.947 KiB\n",
      "\n",
      "83-acg_big.svg:\n",
      "Done in 277 ms!\n",
      "74.42 KiB - 58% = 31.24 KiB\n",
      "\n",
      "2-wvf_big.svg:\n",
      "Done in 177 ms!\n",
      "42.945 KiB - 48.6% = 22.064 KiB\n",
      "\n",
      "10111-feat_big.svg:\n",
      "Done in 308 ms!\n",
      "54.455 KiB - 45.7% = 29.592 KiB\n",
      "\n",
      "10139-acg_big.svg:\n",
      "Done in 291 ms!\n",
      "72.874 KiB - 58.4% = 30.328 KiB\n",
      "\n",
      "61-wvf_big.svg:\n",
      "Done in 169 ms!\n",
      "43.254 KiB - 49.3% = 21.928 KiB\n",
      "\n",
      "87-feat_big.svg:\n",
      "Done in 269 ms!\n",
      "55.903 KiB - 44.7% = 30.911 KiB\n",
      "\n",
      "10126-wvf_big.svg:\n",
      "Done in 156 ms!\n",
      "41.386 KiB - 49% = 21.124 KiB\n",
      "\n",
      "2-feat_big.svg:\n",
      "Done in 288 ms!\n",
      "55.882 KiB - 44.6% = 30.936 KiB\n",
      "\n",
      "37-wvf_big.svg:\n",
      "Done in 164 ms!\n",
      "43.224 KiB - 49.1% = 22.006 KiB\n",
      "\n",
      "10128-acg_big.svg:\n",
      "Done in 294 ms!\n",
      "73.559 KiB - 58% = 30.866 KiB\n",
      "\n",
      "15-feat_big.svg:\n",
      "Done in 477 ms!\n",
      "56.015 KiB - 45.1% = 30.754 KiB\n",
      "\n",
      "34-wvf_big.svg:\n",
      "Done in 188 ms!\n",
      "42.649 KiB - 49.3% = 21.641 KiB\n",
      "\n",
      "0-wvf_big.svg:\n",
      "Done in 184 ms!\n",
      "42.221 KiB - 48.8% = 21.622 KiB\n",
      "\n",
      "72-wvf_big.svg:\n",
      "Done in 177 ms!\n",
      "41.423 KiB - 49.1% = 21.071 KiB\n",
      "\n",
      "27-feat_big.svg:\n",
      "Done in 309 ms!\n",
      "55.894 KiB - 45% = 30.717 KiB\n",
      "\n",
      "33-wvf_big.svg:\n",
      "Done in 169 ms!\n",
      "42.711 KiB - 48.9% = 21.811 KiB\n",
      "\n",
      "83-feat_big.svg:\n",
      "Done in 332 ms!\n",
      "55.897 KiB - 44.7% = 30.908 KiB\n",
      "\n",
      "37-feat_big.svg:\n",
      "Done in 276 ms!\n",
      "55.491 KiB - 44.8% = 30.648 KiB\n",
      "\n",
      "10137-acg_big.svg:\n",
      "Done in 295 ms!\n",
      "71.801 KiB - 58.5% = 29.799 KiB\n",
      "\n",
      "10116-feat_big.svg:\n",
      "Done in 284 ms!\n",
      "54.877 KiB - 44.8% = 30.272 KiB\n",
      "\n",
      "47-wvf_big.svg:\n",
      "Done in 228 ms!\n",
      "43.242 KiB - 48.9% = 22.094 KiB\n",
      "\n",
      "10136-acg_big.svg:\n",
      "Done in 322 ms!\n",
      "69.871 KiB - 57.9% = 29.438 KiB\n",
      "\n",
      "76-acg_big.svg:\n",
      "Done in 337 ms!\n",
      "40.569 KiB - 44.3% = 22.585 KiB\n",
      "\n",
      "38-wvf_big.svg:\n",
      "Done in 181 ms!\n",
      "42.935 KiB - 48.8% = 21.967 KiB\n",
      "\n",
      "10124-feat_big.svg:\n",
      "Done in 313 ms!\n",
      "55.517 KiB - 44.8% = 30.622 KiB\n",
      "\n",
      "48-wvf_big.svg:\n",
      "Done in 192 ms!\n",
      "42.997 KiB - 49.1% = 21.87 KiB\n",
      "\n",
      "1015-feat_big.svg:\n",
      "Done in 356 ms!\n",
      "54.894 KiB - 45.2% = 30.09 KiB\n",
      "\n",
      "43-acg_big.svg:\n",
      "Done in 357 ms!\n",
      "69.046 KiB - 58.4% = 28.695 KiB\n",
      "\n",
      "10141-acg_big.svg:\n",
      "Done in 371 ms!\n",
      "88.578 KiB - 61.9% = 33.778 KiB\n",
      "\n",
      "1015-acg_big.svg:\n",
      "Done in 328 ms!\n",
      "64.591 KiB - 58.6% = 26.748 KiB\n",
      "\n",
      "36-feat_big.svg:\n",
      "Done in 283 ms!\n",
      "55.088 KiB - 45% = 30.291 KiB\n",
      "\n",
      "85-feat_big.svg:\n",
      "Done in 297 ms!\n",
      "55.867 KiB - 45% = 30.709 KiB\n",
      "\n",
      "10146-wvf_big.svg:\n",
      "Done in 197 ms!\n",
      "41.647 KiB - 49.2% = 21.164 KiB\n",
      "\n",
      "39-wvf_big.svg:\n",
      "Done in 185 ms!\n",
      "43.764 KiB - 49.1% = 22.29 KiB\n",
      "\n",
      "49-wvf_big.svg:\n",
      "Done in 185 ms!\n",
      "42.481 KiB - 49% = 21.651 KiB\n",
      "\n",
      "1014-wvf_big.svg:\n",
      "Done in 194 ms!\n",
      "43.01 KiB - 49.5% = 21.731 KiB\n",
      "\n",
      "14-acg_big.svg:\n",
      "Done in 284 ms!\n",
      "88.861 KiB - 61.9% = 33.892 KiB\n",
      "\n",
      "74-feat_big.svg:\n",
      "Done in 278 ms!\n",
      "53.972 KiB - 45.3% = 29.548 KiB\n",
      "\n",
      "10152-wvf_big.svg:\n",
      "Done in 183 ms!\n",
      "43.249 KiB - 48.7% = 22.187 KiB\n",
      "\n",
      "1013-feat_big.svg:\n",
      "Done in 289 ms!\n",
      "55.961 KiB - 44.6% = 31.013 KiB\n",
      "\n",
      "65-wvf_big.svg:\n",
      "Done in 182 ms!\n",
      "43.243 KiB - 49.1% = 22.004 KiB\n",
      "\n",
      "27-wvf_big.svg:\n",
      "Done in 189 ms!\n",
      "41.509 KiB - 48.7% = 21.278 KiB\n",
      "\n",
      "79-feat_big.svg:\n",
      "Done in 287 ms!\n",
      "55.486 KiB - 45.3% = 30.326 KiB\n",
      "\n",
      "10118-feat_big.svg:\n",
      "Done in 279 ms!\n",
      "55.284 KiB - 44.9% = 30.473 KiB\n",
      "\n",
      "10127-feat_big.svg:\n",
      "Done in 342 ms!\n",
      "56.506 KiB - 44.9% = 31.117 KiB\n",
      "\n",
      "58-wvf_big.svg:\n",
      "Done in 169 ms!\n",
      "41.388 KiB - 48.9% = 21.169 KiB\n",
      "\n",
      "50-feat_big.svg:\n",
      "Done in 302 ms!\n",
      "55.93 KiB - 44.8% = 30.86 KiB\n",
      "\n",
      "31-wvf_big.svg:\n",
      "Done in 170 ms!\n",
      "41.678 KiB - 49.1% = 21.205 KiB\n",
      "\n",
      "10151-wvf_big.svg:\n",
      "Done in 304 ms!\n",
      "42.801 KiB - 49% = 21.82 KiB\n",
      "\n",
      "79-wvf_big.svg:\n",
      "Done in 308 ms!\n",
      "42.933 KiB - 48.7% = 22.046 KiB\n",
      "\n",
      "15-wvf_big.svg:\n",
      "Done in 234 ms!\n",
      "42.849 KiB - 48.9% = 21.891 KiB\n",
      "\n",
      "85-wvf_big.svg:\n",
      "Done in 229 ms!\n",
      "41.356 KiB - 48.8% = 21.163 KiB\n",
      "\n",
      "59-feat_big.svg:\n",
      "Done in 421 ms!\n",
      "56.525 KiB - 44.4% = 31.415 KiB\n",
      "\n",
      "42-wvf_big.svg:\n",
      "Done in 275 ms!\n",
      "43.243 KiB - 49.1% = 22.028 KiB\n",
      "\n",
      "68-wvf_big.svg:\n",
      "Done in 262 ms!\n",
      "41.385 KiB - 49.1% = 21.074 KiB\n",
      "\n",
      "95-wvf_big.svg:\n",
      "Done in 200 ms!\n",
      "41.507 KiB - 49.1% = 21.112 KiB\n",
      "\n",
      "95-acg_big.svg:\n",
      "Done in 321 ms!\n",
      "69.533 KiB - 58.4% = 28.931 KiB\n",
      "\n",
      "86-feat_big.svg:\n",
      "Done in 319 ms!\n",
      "53.629 KiB - 45.8% = 29.069 KiB\n",
      "\n",
      "1017-wvf_big.svg:\n",
      "Done in 194 ms!\n",
      "42.467 KiB - 49.3% = 21.528 KiB\n",
      "\n",
      "81-feat_big.svg:\n",
      "Done in 291 ms!\n",
      "55.442 KiB - 45.2% = 30.375 KiB\n",
      "\n",
      "10145-acg_big.svg:\n",
      "Done in 325 ms!\n",
      "91.811 KiB - 61% = 35.779 KiB\n",
      "\n",
      "68-acg_big.svg:\n",
      "Done in 269 ms!\n",
      "58.428 KiB - 52.8% = 27.604 KiB\n",
      "\n",
      "14-feat_big.svg:\n",
      "Done in 280 ms!\n",
      "53.942 KiB - 44.8% = 29.76 KiB\n",
      "\n",
      "24-feat_big.svg:\n",
      "Done in 299 ms!\n",
      "53.978 KiB - 44.8% = 29.803 KiB\n",
      "\n",
      "10117-acg_big.svg:\n",
      "Done in 261 ms!\n",
      "68.392 KiB - 59% = 28.034 KiB\n",
      "\n",
      "1012-acg_big.svg:\n",
      "Done in 272 ms!\n",
      "66.973 KiB - 58.7% = 27.664 KiB\n",
      "\n",
      "65-feat_big.svg:\n",
      "Done in 267 ms!\n",
      "54.055 KiB - 45.7% = 29.377 KiB\n",
      "\n",
      "78-wvf_big.svg:\n",
      "Done in 187 ms!\n",
      "41.363 KiB - 48.7% = 21.22 KiB\n",
      "\n",
      "72-acg_big.svg:\n",
      "Done in 276 ms!\n",
      "68.251 KiB - 58.5% = 28.344 KiB\n",
      "\n",
      "28-feat_big.svg:\n",
      "Done in 589 ms!\n",
      "57.244 KiB - 44.8% = 31.591 KiB\n",
      "\n",
      "49-feat_big.svg:\n",
      "Done in 440 ms!\n",
      "56.902 KiB - 44.9% = 31.368 KiB\n",
      "\n",
      "32-feat_big.svg:\n",
      "Done in 332 ms!\n",
      "55.413 KiB - 45.3% = 30.333 KiB\n",
      "\n",
      "60-wvf_big.svg:\n",
      "Done in 231 ms!\n",
      "41.652 KiB - 48.9% = 21.27 KiB\n",
      "\n",
      "76-feat_big.svg:\n",
      "Done in 348 ms!\n",
      "52.355 KiB - 45.5% = 28.533 KiB\n",
      "\n",
      "10125-acg_big.svg:\n",
      "Done in 340 ms!\n",
      "92.45 KiB - 61% = 36.046 KiB\n",
      "\n",
      "52-wvf_big.svg:\n",
      "Done in 195 ms!\n",
      "42.551 KiB - 48.9% = 21.748 KiB\n",
      "\n",
      "28-acg_big.svg:\n",
      "Done in 294 ms!\n",
      "72.454 KiB - 58.3% = 30.184 KiB\n",
      "\n",
      "10150-acg_big.svg:\n",
      "Done in 296 ms!\n",
      "71.93 KiB - 58.9% = 29.547 KiB\n",
      "\n",
      "10126-acg_big.svg:\n",
      "Done in 315 ms!\n",
      "90.509 KiB - 61.5% = 34.854 KiB\n",
      "\n",
      "10114-wvf_big.svg:\n",
      "Done in 202 ms!\n",
      "42.25 KiB - 49.2% = 21.481 KiB\n",
      "\n",
      "62-feat_big.svg:\n",
      "Done in 323 ms!\n",
      "56.34 KiB - 44.9% = 31.022 KiB\n",
      "\n",
      "75-acg_big.svg:\n",
      "Done in 328 ms!\n",
      "91.726 KiB - 61.2% = 35.607 KiB\n",
      "\n",
      "18-acg_big.svg:\n",
      "Done in 319 ms!\n",
      "72.663 KiB - 58% = 30.53 KiB\n",
      "\n",
      "72-feat_big.svg:\n",
      "Done in 276 ms!\n",
      "56.346 KiB - 44.8% = 31.08 KiB\n",
      "\n",
      "94-wvf_big.svg:\n",
      "Done in 158 ms!\n",
      "41.473 KiB - 49.1% = 21.123 KiB\n",
      "\n",
      "7-acg_big.svg:\n",
      "Done in 254 ms!\n",
      "63.005 KiB - 56.6% = 27.361 KiB\n",
      "\n",
      "54-acg_big.svg:\n",
      "Done in 269 ms!\n",
      "56.617 KiB - 53.8% = 26.184 KiB\n",
      "\n",
      "10122-wvf_big.svg:\n",
      "Done in 181 ms!\n",
      "42.776 KiB - 49% = 21.833 KiB\n",
      "\n",
      "10113-feat_big.svg:\n",
      "Done in 319 ms!\n",
      "54.565 KiB - 44.7% = 30.196 KiB\n",
      "\n",
      "78-acg_big.svg:\n",
      "Done in 228 ms!\n",
      "43.981 KiB - 46.8% = 23.392 KiB\n",
      "\n",
      "40-wvf_big.svg:\n",
      "Done in 173 ms!\n",
      "43.85 KiB - 49.2% = 22.284 KiB\n",
      "\n",
      "10146-acg_big.svg:\n",
      "Done in 295 ms!\n",
      "87.289 KiB - 62.2% = 32.974 KiB\n",
      "\n",
      "10115-acg_big.svg:\n",
      "Done in 287 ms!\n",
      "66.68 KiB - 59.1% = 27.276 KiB\n",
      "\n",
      "67-acg_big.svg:\n",
      "Done in 444 ms!\n",
      "74.115 KiB - 58% = 31.098 KiB\n",
      "\n",
      "57-wvf_big.svg:\n",
      "Done in 158 ms!\n",
      "42.779 KiB - 48.8% = 21.899 KiB\n",
      "\n",
      "10122-feat_big.svg:\n",
      "Done in 279 ms!\n",
      "51.411 KiB - 45.8% = 27.884 KiB\n",
      "\n",
      "9-acg_big.svg:\n",
      "Done in 272 ms!\n",
      "71.947 KiB - 58.6% = 29.783 KiB\n",
      "\n",
      "10132-feat_big.svg:\n",
      "Done in 425 ms!\n",
      "57.053 KiB - 45.3% = 31.213 KiB\n",
      "\n",
      "10127-acg_big.svg:\n",
      "Done in 260 ms!\n",
      "72.252 KiB - 58.6% = 29.911 KiB\n",
      "\n",
      "70-wvf_big.svg:\n",
      "Done in 165 ms!\n",
      "43.693 KiB - 49.1% = 22.227 KiB\n",
      "\n",
      "32-wvf_big.svg:\n",
      "Done in 207 ms!\n",
      "42.654 KiB - 49.1% = 21.691 KiB\n",
      "\n",
      "53-feat_big.svg:\n",
      "Done in 374 ms!\n",
      "55.26 KiB - 44.7% = 30.551 KiB\n",
      "\n",
      "58-acg_big.svg:\n",
      "Done in 329 ms!\n",
      "70.453 KiB - 57.8% = 29.72 KiB\n",
      "\n",
      "8-feat_big.svg:\n",
      "Done in 267 ms!\n",
      "53.853 KiB - 44.9% = 29.68 KiB\n",
      "\n",
      "10148-feat_big.svg:\n",
      "Done in 317 ms!\n",
      "54.86 KiB - 45% = 30.151 KiB\n",
      "\n",
      "10144-feat_big.svg:\n",
      "Done in 286 ms!\n",
      "54.892 KiB - 45.1% = 30.148 KiB\n",
      "\n",
      "25-acg_big.svg:\n",
      "Done in 219 ms!\n",
      "51.791 KiB - 51.4% = 25.19 KiB\n",
      "\n",
      "56-feat_big.svg:\n",
      "Done in 356 ms!\n",
      "53.956 KiB - 44.8% = 29.786 KiB\n",
      "\n",
      "60-acg_big.svg:\n",
      "Done in 285 ms!\n",
      "67.722 KiB - 57.4% = 28.866 KiB\n",
      "\n",
      "35-acg_big.svg:\n",
      "Done in 245 ms!\n",
      "70.346 KiB - 59.2% = 28.67 KiB\n",
      "\n",
      "41-acg_big.svg:\n",
      "Done in 225 ms!\n",
      "36.598 KiB - 44.2% = 20.424 KiB\n",
      "\n",
      "64-wvf_big.svg:\n",
      "Done in 172 ms!\n",
      "42.326 KiB - 49.4% = 21.438 KiB\n",
      "\n",
      "8-wvf_big.svg:\n",
      "Done in 210 ms!\n",
      "41.551 KiB - 48.7% = 21.333 KiB\n",
      "\n",
      "66-wvf_big.svg:\n",
      "Done in 175 ms!\n",
      "44.688 KiB - 49.1% = 22.75 KiB\n",
      "\n",
      "84-wvf_big.svg:\n",
      "Done in 199 ms!\n",
      "42.464 KiB - 48.6% = 21.808 KiB\n",
      "\n",
      "53-acg_big.svg:\n",
      "Done in 345 ms!\n",
      "71.273 KiB - 58.5% = 29.583 KiB\n",
      "\n",
      "10113-acg_big.svg:\n",
      "Done in 402 ms!\n",
      "68.99 KiB - 58.6% = 28.579 KiB\n",
      "\n",
      "1012-wvf_big.svg:\n",
      "Done in 169 ms!\n",
      "42.903 KiB - 49% = 21.863 KiB\n",
      "\n",
      "10131-feat_big.svg:\n",
      "Done in 391 ms!\n",
      "54.54 KiB - 44.8% = 30.115 KiB\n",
      "\n",
      "21-feat_big.svg:\n",
      "Done in 322 ms!\n",
      "54.873 KiB - 44.7% = 30.357 KiB\n",
      "\n",
      "6-acg_big.svg:\n",
      "Done in 286 ms!\n",
      "71.302 KiB - 58.7% = 29.442 KiB\n",
      "\n",
      "53-wvf_big.svg:\n",
      "Done in 192 ms!\n",
      "42.621 KiB - 49% = 21.736 KiB\n",
      "\n",
      "63-feat_big.svg:\n",
      "Done in 288 ms!\n",
      "54.44 KiB - 45.7% = 29.555 KiB\n",
      "\n",
      "90-wvf_big.svg:\n",
      "Done in 172 ms!\n",
      "42.701 KiB - 49% = 21.784 KiB\n",
      "\n",
      "10131-acg_big.svg:\n",
      "Done in 260 ms!\n",
      "69.907 KiB - 59.1% = 28.558 KiB\n",
      "\n",
      "46-wvf_big.svg:\n",
      "Done in 158 ms!\n",
      "42.507 KiB - 49% = 21.692 KiB\n",
      "\n",
      "11-acg_big.svg:\n",
      "Done in 274 ms!\n",
      "69.541 KiB - 58.4% = 28.959 KiB\n",
      "\n",
      "41-feat_big.svg:\n",
      "Done in 278 ms!\n",
      "54.018 KiB - 44.8% = 29.803 KiB\n",
      "\n",
      "2-acg_big.svg:\n",
      "Done in 258 ms!\n",
      "70.787 KiB - 58.4% = 29.46 KiB\n",
      "\n",
      "10-wvf_big.svg:\n",
      "Done in 206 ms!\n",
      "42.225 KiB - 48.8% = 21.62 KiB\n",
      "\n",
      "10143-feat_big.svg:\n",
      "Done in 266 ms!\n",
      "55.833 KiB - 44.9% = 30.768 KiB\n",
      "\n",
      "1013-wvf_big.svg:\n",
      "Done in 157 ms!\n",
      "41.39 KiB - 49% = 21.104 KiB\n",
      "\n",
      "10136-wvf_big.svg:\n",
      "Done in 174 ms!\n",
      "43.987 KiB - 49% = 22.432 KiB\n",
      "\n",
      "89-wvf_big.svg:\n",
      "Done in 171 ms!\n",
      "42.231 KiB - 48.8% = 21.608 KiB\n",
      "\n",
      "61-acg_big.svg:\n",
      "Done in 334 ms!\n",
      "85.605 KiB - 59.4% = 34.729 KiB\n",
      "\n",
      "1010-wvf_big.svg:\n",
      "Done in 171 ms!\n",
      "43.759 KiB - 49.1% = 22.256 KiB\n",
      "\n",
      "57-acg_big.svg:\n",
      "Done in 274 ms!\n",
      "66.213 KiB - 56.5% = 28.83 KiB\n",
      "\n",
      "66-feat_big.svg:\n",
      "Done in 267 ms!\n",
      "55.21 KiB - 45.2% = 30.255 KiB\n",
      "\n",
      "49-acg_big.svg:\n",
      "Done in 270 ms!\n",
      "85.334 KiB - 61% = 33.271 KiB\n",
      "\n",
      "0-acg_big.svg:\n",
      "Done in 244 ms!\n",
      "65.014 KiB - 58.9% = 26.69 KiB\n",
      "\n",
      "74-acg_big.svg:\n",
      "Done in 292 ms!\n",
      "85.859 KiB - 62% = 32.661 KiB\n",
      "\n",
      "10123-wvf_big.svg:\n",
      "Done in 206 ms!\n",
      "43.138 KiB - 49.4% = 21.831 KiB\n",
      "\n",
      "93-feat_big.svg:\n",
      "Done in 266 ms!\n",
      "55.108 KiB - 44.4% = 30.649 KiB\n",
      "\n",
      "10140-wvf_big.svg:\n",
      "Done in 161 ms!\n",
      "42.523 KiB - 49.1% = 21.645 KiB\n",
      "\n",
      "22-acg_big.svg:\n",
      "Done in 224 ms!\n",
      "37.095 KiB - 44.1% = 20.723 KiB\n",
      "\n",
      "34-feat_big.svg:\n",
      "Done in 316 ms!\n",
      "57.973 KiB - 45.1% = 31.844 KiB\n",
      "\n",
      "22-feat_big.svg:\n",
      "Done in 250 ms!\n",
      "51.246 KiB - 45.8% = 27.772 KiB\n",
      "\n",
      "54-wvf_big.svg:\n",
      "Done in 187 ms!\n",
      "42.301 KiB - 48.7% = 21.711 KiB\n",
      "\n",
      "64-feat_big.svg:\n",
      "Done in 269 ms!\n",
      "54.493 KiB - 44.6% = 30.182 KiB\n",
      "\n",
      "19-feat_big.svg:\n",
      "Done in 324 ms!\n",
      "53.803 KiB - 45.4% = 29.35 KiB\n",
      "\n",
      "10137-wvf_big.svg:\n",
      "Done in 175 ms!\n",
      "44.788 KiB - 49.2% = 22.744 KiB\n",
      "\n",
      "10150-wvf_big.svg:\n",
      "Done in 220 ms!\n",
      "43.234 KiB - 48.9% = 22.083 KiB\n",
      "\n",
      "51-acg_big.svg:\n",
      "Done in 283 ms!\n",
      "89.718 KiB - 61.7% = 34.327 KiB\n",
      "\n",
      "10133-feat_big.svg:\n",
      "Done in 298 ms!\n",
      "55.469 KiB - 45.1% = 30.45 KiB\n",
      "\n",
      "10138-wvf_big.svg:\n",
      "Done in 162 ms!\n",
      "42.621 KiB - 49% = 21.716 KiB\n",
      "\n",
      "92-acg_big.svg:\n",
      "Done in 290 ms!\n",
      "87.985 KiB - 61.6% = 33.822 KiB\n",
      "\n",
      "10119-acg_big.svg:\n",
      "Done in 200 ms!\n",
      "39.875 KiB - 47.9% = 20.771 KiB\n",
      "\n",
      "75-feat_big.svg:\n",
      "Done in 291 ms!\n",
      "54.462 KiB - 45.2% = 29.868 KiB\n",
      "\n",
      "73-wvf_big.svg:\n",
      "Done in 167 ms!\n",
      "42.976 KiB - 49.1% = 21.887 KiB\n",
      "\n",
      "10112-acg_big.svg:\n",
      "Done in 336 ms!\n",
      "86.424 KiB - 61.6% = 33.197 KiB\n",
      "\n",
      "10136-feat_big.svg:\n",
      "Done in 250 ms!\n",
      "52.947 KiB - 45.9% = 28.639 KiB\n",
      "\n",
      "82-feat_big.svg:\n",
      "Done in 282 ms!\n",
      "54.854 KiB - 44.8% = 30.268 KiB\n",
      "\n",
      "88-wvf_big.svg:\n",
      "Done in 168 ms!\n",
      "42.874 KiB - 48.8% = 21.933 KiB\n",
      "\n",
      "95-feat_big.svg:\n",
      "Done in 309 ms!\n",
      "55.839 KiB - 45.1% = 30.649 KiB\n",
      "\n",
      "68-feat_big.svg:\n",
      "Done in 286 ms!\n",
      "54.858 KiB - 45.5% = 29.884 KiB\n",
      "\n",
      "17-wvf_big.svg:\n",
      "Done in 170 ms!\n",
      "42.188 KiB - 49% = 21.537 KiB\n",
      "\n",
      "36-wvf_big.svg:\n",
      "Done in 181 ms!\n",
      "43.164 KiB - 49.2% = 21.93 KiB\n",
      "\n",
      "10145-feat_big.svg:\n",
      "Done in 269 ms!\n",
      "56.173 KiB - 45.1% = 30.832 KiB\n",
      "\n",
      "82-wvf_big.svg:\n",
      "Done in 171 ms!\n",
      "43.449 KiB - 48.7% = 22.293 KiB\n",
      "\n",
      "10122-acg_big.svg:\n",
      "Done in 317 ms!\n",
      "87.196 KiB - 61.1% = 33.895 KiB\n",
      "\n",
      "1010-acg_big.svg:\n",
      "Done in 256 ms!\n",
      "70.899 KiB - 57.6% = 30.071 KiB\n",
      "\n",
      "10113-wvf_big.svg:\n",
      "Done in 169 ms!\n",
      "43.371 KiB - 49% = 22.098 KiB\n",
      "\n",
      "83-wvf_big.svg:\n",
      "Done in 188 ms!\n",
      "42.318 KiB - 49% = 21.58 KiB\n",
      "\n",
      "10139-feat_big.svg:\n",
      "Done in 277 ms!\n",
      "55.433 KiB - 45.2% = 30.396 KiB\n",
      "\n",
      "4-wvf_big.svg:\n",
      "Done in 165 ms!\n",
      "42.294 KiB - 48.7% = 21.702 KiB\n",
      "\n",
      "84-acg_big.svg:\n",
      "Done in 257 ms!\n",
      "71.646 KiB - 58.6% = 29.69 KiB\n",
      "\n",
      "8-acg_big.svg:\n",
      "Done in 251 ms!\n",
      "63.904 KiB - 56.1% = 28.05 KiB\n",
      "\n",
      "10135-wvf_big.svg:\n",
      "Done in 167 ms!\n",
      "43.713 KiB - 48.8% = 22.381 KiB\n",
      "\n",
      "37-acg_big.svg:\n",
      "Done in 297 ms!\n",
      "89.539 KiB - 61.7% = 34.279 KiB\n",
      "\n",
      "1010-feat_big.svg:\n",
      "Done in 274 ms!\n",
      "56.424 KiB - 45% = 31.03 KiB\n",
      "\n",
      "74-wvf_big.svg:\n",
      "Done in 158 ms!\n",
      "42.854 KiB - 48.6% = 22.022 KiB\n",
      "\n",
      "77-wvf_big.svg:\n",
      "Done in 181 ms!\n",
      "42.932 KiB - 48.8% = 21.988 KiB\n",
      "\n",
      "10146-feat_big.svg:\n",
      "Done in 294 ms!\n",
      "57.198 KiB - 44.9% = 31.524 KiB\n",
      "\n",
      "5-wvf_big.svg:\n",
      "Done in 167 ms!\n",
      "42.526 KiB - 48.8% = 21.763 KiB\n",
      "\n",
      "3-wvf_big.svg:\n",
      "Done in 180 ms!\n",
      "44.178 KiB - 49% = 22.53 KiB\n",
      "\n",
      "10134-feat_big.svg:\n",
      "Done in 268 ms!\n",
      "54.454 KiB - 44.5% = 30.204 KiB\n",
      "\n",
      "0-feat_big.svg:\n",
      "Done in 265 ms!\n",
      "53.951 KiB - 44.8% = 29.808 KiB\n",
      "\n",
      "25-feat_big.svg:\n",
      "Done in 342 ms!\n",
      "56.014 KiB - 44.6% = 31.032 KiB\n",
      "\n",
      "10130-acg_big.svg:\n",
      "Done in 265 ms!\n",
      "72.325 KiB - 58.1% = 30.269 KiB\n",
      "\n",
      "69-feat_big.svg:\n",
      "Done in 268 ms!\n",
      "54.128 KiB - 44.9% = 29.849 KiB\n",
      "\n",
      "43-feat_big.svg:\n",
      "Done in 311 ms!\n",
      "56.586 KiB - 44.9% = 31.172 KiB\n",
      "\n",
      "88-feat_big.svg:\n",
      "Done in 262 ms!\n",
      "54.337 KiB - 44.5% = 30.151 KiB\n",
      "\n",
      "5-feat_big.svg:\n",
      "Done in 275 ms!\n",
      "53.891 KiB - 44.8% = 29.762 KiB\n",
      "\n",
      "1016-wvf_big.svg:\n",
      "Done in 165 ms!\n",
      "42.975 KiB - 49% = 21.896 KiB\n",
      "\n",
      "40-acg_big.svg:\n",
      "Done in 212 ms!\n",
      "34.575 KiB - 44.2% = 19.308 KiB\n",
      "\n",
      "67-wvf_big.svg:\n",
      "Done in 161 ms!\n",
      "41.373 KiB - 48.8% = 21.201 KiB\n",
      "\n",
      "77-feat_big.svg:\n",
      "Done in 280 ms!\n",
      "54.015 KiB - 45.1% = 29.628 KiB\n",
      "\n",
      "10147-acg_big.svg:\n",
      "Done in 292 ms!\n",
      "90.111 KiB - 61.5% = 34.657 KiB\n",
      "\n",
      "24-wvf_big.svg:\n",
      "Done in 190 ms!\n",
      "42.896 KiB - 48.9% = 21.923 KiB\n",
      "\n",
      "10153-wvf_big.svg:\n",
      "Done in 155 ms!\n",
      "41.512 KiB - 49.2% = 21.076 KiB\n",
      "\n",
      "91-acg_big.svg:\n",
      "Done in 316 ms!\n",
      "71.144 KiB - 58.9% = 29.225 KiB\n",
      "\n",
      "16-wvf_big.svg:\n",
      "Done in 167 ms!\n",
      "43.805 KiB - 48.7% = 22.454 KiB\n",
      "\n",
      "10117-feat_big.svg:\n",
      "Done in 275 ms!\n",
      "54.265 KiB - 45% = 29.837 KiB\n",
      "\n",
      "10134-acg_big.svg:\n",
      "Done in 253 ms!\n",
      "69.945 KiB - 58.2% = 29.25 KiB\n",
      "\n",
      "10128-wvf_big.svg:\n",
      "Done in 180 ms!\n",
      "41.765 KiB - 49.2% = 21.208 KiB\n",
      "\n",
      "56-acg_big.svg:\n",
      "Done in 192 ms!\n",
      "36.339 KiB - 45.2% = 19.925 KiB\n",
      "\n",
      "24-acg_big.svg:\n",
      "Done in 322 ms!\n",
      "51.594 KiB - 52.4% = 24.563 KiB\n",
      "\n",
      "17-feat_big.svg:\n",
      "Done in 270 ms!\n",
      "56.822 KiB - 45.3% = 31.074 KiB\n",
      "\n",
      "10149-feat_big.svg:\n",
      "Done in 263 ms!\n",
      "55.612 KiB - 45.2% = 30.467 KiB\n",
      "\n",
      "10151-acg_big.svg:\n",
      "Done in 289 ms!\n",
      "71.957 KiB - 58.4% = 29.953 KiB\n",
      "\n",
      "45-acg_big.svg:\n",
      "Done in 249 ms!\n",
      "68.982 KiB - 58.9% = 28.386 KiB\n",
      "\n",
      "40-feat_big.svg:\n",
      "Done in 273 ms!\n",
      "54.433 KiB - 44.5% = 30.226 KiB\n",
      "\n",
      "10133-acg_big.svg:\n",
      "Done in 294 ms!\n",
      "88.292 KiB - 61.4% = 34.082 KiB\n",
      "\n",
      "10152-feat_big.svg:\n",
      "Done in 263 ms!\n",
      "55.999 KiB - 45% = 30.801 KiB\n",
      "\n",
      "10124-acg_big.svg:\n",
      "Done in 270 ms!\n",
      "71.559 KiB - 58.5% = 29.679 KiB\n",
      "\n",
      "18-feat_big.svg:\n",
      "Done in 265 ms!\n",
      "55.874 KiB - 45% = 30.745 KiB\n",
      "\n",
      "10121-feat_big.svg:\n",
      "Done in 281 ms!\n",
      "54.552 KiB - 44.5% = 30.292 KiB\n",
      "\n",
      "10118-acg_big.svg:\n",
      "Done in 269 ms!\n",
      "90.719 KiB - 61.4% = 35.032 KiB\n",
      "\n",
      "10110-wvf_big.svg:\n",
      "Done in 164 ms!\n",
      "42.769 KiB - 48.9% = 21.857 KiB\n",
      "\n",
      "10144-acg_big.svg:\n",
      "Done in 250 ms!\n",
      "69.497 KiB - 58.3% = 29.014 KiB\n",
      "\n",
      "47-feat_big.svg:\n",
      "Done in 263 ms!\n",
      "52.591 KiB - 45.4% = 28.723 KiB\n",
      "\n",
      "42-feat_big.svg:\n",
      "Done in 267 ms!\n",
      "54.293 KiB - 45.7% = 29.501 KiB\n",
      "\n",
      "17-acg_big.svg:\n",
      "Done in 286 ms!\n",
      "90.886 KiB - 61.1% = 35.345 KiB\n",
      "\n",
      "10153-acg_big.svg:\n",
      "Done in 269 ms!\n",
      "87.874 KiB - 61.6% = 33.777 KiB\n",
      "\n",
      "10145-wvf_big.svg:\n",
      "Done in 161 ms!\n",
      "44.206 KiB - 49.1% = 22.5 KiB\n",
      "\n",
      "94-acg_big.svg:\n",
      "Done in 281 ms!\n",
      "87.941 KiB - 61% = 34.276 KiB\n",
      "\n",
      "10143-wvf_big.svg:\n",
      "Done in 161 ms!\n",
      "41.951 KiB - 48.7% = 21.512 KiB\n",
      "\n",
      "58-feat_big.svg:\n",
      "Done in 296 ms!\n",
      "54.009 KiB - 44.7% = 29.859 KiB\n",
      "\n",
      "35-wvf_big.svg:\n",
      "Done in 163 ms!\n",
      "42.714 KiB - 49% = 21.788 KiB\n",
      "\n",
      "13-feat_big.svg:\n",
      "Done in 278 ms!\n",
      "54.056 KiB - 44.8% = 29.858 KiB\n",
      "\n",
      "46-acg_big.svg:\n",
      "Done in 270 ms!\n",
      "70.828 KiB - 57.6% = 30.023 KiB\n",
      "\n",
      "86-acg_big.svg:\n",
      "Done in 195 ms!\n",
      "34.675 KiB - 43.3% = 19.678 KiB\n",
      "\n",
      "1019-acg_big.svg:\n",
      "Done in 219 ms!\n",
      "41.421 KiB - 45.1% = 22.728 KiB\n",
      "\n",
      "15-acg_big.svg:\n",
      "Done in 278 ms!\n",
      "89.708 KiB - 61.5% = 34.517 KiB\n",
      "\n",
      "10153-feat_big.svg:\n",
      "Done in 308 ms!\n",
      "53.428 KiB - 45% = 29.402 KiB\n",
      "\n",
      "10135-acg_big.svg:\n",
      "Done in 252 ms!\n",
      "73.665 KiB - 57.8% = 31.072 KiB\n",
      "\n",
      "10132-wvf_big.svg:\n",
      "Done in 156 ms!\n",
      "42.732 KiB - 49.1% = 21.755 KiB\n",
      "\n",
      "16-feat_big.svg:\n",
      "Done in 262 ms!\n",
      "54.662 KiB - 44.7% = 30.236 KiB\n",
      "\n",
      "70-feat_big.svg:\n",
      "Done in 281 ms!\n",
      "54.216 KiB - 44.9% = 29.885 KiB\n",
      "\n",
      "71-wvf_big.svg:\n",
      "Done in 168 ms!\n",
      "42.284 KiB - 48.8% = 21.64 KiB\n",
      "\n",
      "63-wvf_big.svg:\n",
      "Done in 160 ms!\n",
      "41.388 KiB - 49.1% = 21.063 KiB\n",
      "\n",
      "55-acg_big.svg:\n",
      "Done in 232 ms!\n",
      "49.096 KiB - 49.8% = 24.636 KiB\n",
      "\n",
      "10149-acg_big.svg:\n",
      "Done in 269 ms!\n",
      "72.553 KiB - 58.3% = 30.264 KiB\n",
      "\n",
      "26-feat_big.svg:\n",
      "Done in 295 ms!\n",
      "56.559 KiB - 44.8% = 31.2 KiB\n",
      "\n",
      "87-acg_big.svg:\n",
      "Done in 208 ms!\n",
      "43.015 KiB - 48% = 22.352 KiB\n",
      "\n",
      "5-acg_big.svg:\n",
      "Done in 276 ms!\n",
      "69.776 KiB - 58.9% = 28.688 KiB\n",
      "\n",
      "10116-acg_big.svg:\n",
      "Done in 262 ms!\n",
      "71.584 KiB - 58.7% = 29.538 KiB\n",
      "\n",
      "10131-wvf_big.svg:\n",
      "Done in 175 ms!\n",
      "41.396 KiB - 49% = 21.102 KiB\n",
      "\n",
      "55-feat_big.svg:\n",
      "Done in 285 ms!\n",
      "55.909 KiB - 44.9% = 30.78 KiB\n",
      "\n",
      "4-acg_big.svg:\n",
      "Done in 275 ms!\n",
      "87.775 KiB - 61.3% = 33.947 KiB\n",
      "\n",
      "62-wvf_big.svg:\n",
      "Done in 171 ms!\n",
      "42.294 KiB - 48.9% = 21.62 KiB\n",
      "\n",
      "1011-wvf_big.svg:\n",
      "Done in 167 ms!\n",
      "42.226 KiB - 49.1% = 21.487 KiB\n",
      "\n",
      "10112-wvf_big.svg:\n",
      "Done in 179 ms!\n",
      "42.908 KiB - 49% = 21.867 KiB\n",
      "\n",
      "30-feat_big.svg:\n",
      "Done in 288 ms!\n",
      "55.021 KiB - 44.5% = 30.563 KiB\n",
      "\n",
      "70-acg_big.svg:\n",
      "Done in 176 ms!\n",
      "34.685 KiB - 44.1% = 19.373 KiB\n",
      "\n",
      "30-acg_big.svg:\n",
      "Done in 281 ms!\n",
      "87.487 KiB - 61% = 34.142 KiB\n",
      "\n",
      "10142-feat_big.svg:\n",
      "Done in 288 ms!\n",
      "56.285 KiB - 45.1% = 30.913 KiB\n",
      "\n",
      "10124-wvf_big.svg:\n",
      "Done in 162 ms!\n",
      "43.229 KiB - 48.9% = 22.105 KiB\n",
      "\n",
      "23-acg_big.svg:\n",
      "Done in 215 ms!\n",
      "47.848 KiB - 50.7% = 23.598 KiB\n",
      "\n",
      "39-feat_big.svg:\n",
      "Done in 275 ms!\n",
      "54.842 KiB - 44.8% = 30.257 KiB\n",
      "\n",
      "59-acg_big.svg:\n",
      "Done in 263 ms!\n",
      "69.018 KiB - 58.4% = 28.729 KiB\n",
      "\n",
      "89-feat_big.svg:\n",
      "Done in 263 ms!\n",
      "54.131 KiB - 45.7% = 29.382 KiB\n",
      "\n",
      "44-acg_big.svg:\n",
      "Done in 256 ms!\n",
      "67.922 KiB - 58.6% = 28.15 KiB\n",
      "\n",
      "1019-wvf_big.svg:\n",
      "Done in 174 ms!\n",
      "42.889 KiB - 48.8% = 21.969 KiB\n",
      "\n",
      "29-acg_big.svg:\n",
      "Done in 302 ms!\n",
      "89.719 KiB - 61.6% = 34.424 KiB\n",
      "\n",
      "44-wvf_big.svg:\n",
      "Done in 172 ms!\n",
      "41.448 KiB - 49.1% = 21.096 KiB\n",
      "\n",
      "10120-acg_big.svg:\n",
      "Done in 214 ms!\n",
      "38.473 KiB - 42.8% = 22.009 KiB\n",
      "\n",
      "10110-feat_big.svg:\n",
      "Done in 274 ms!\n",
      "55.047 KiB - 44.9% = 30.32 KiB\n",
      "\n",
      "10143-acg_big.svg:\n",
      "Done in 283 ms!\n",
      "72.499 KiB - 58.1% = 30.353 KiB\n",
      "\n",
      "10114-feat_big.svg:\n",
      "Done in 285 ms!\n",
      "56.029 KiB - 45% = 30.804 KiB\n",
      "\n",
      "91-wvf_big.svg:\n",
      "Done in 159 ms!\n",
      "42.779 KiB - 48.9% = 21.841 KiB\n",
      "\n",
      "1012-feat_big.svg:\n",
      "Done in 350 ms!\n",
      "55.685 KiB - 45.2% = 30.497 KiB\n",
      "\n",
      "26-wvf_big.svg:\n",
      "Done in 197 ms!\n",
      "41.416 KiB - 48.9% = 21.159 KiB\n",
      "\n",
      "10139-wvf_big.svg:\n",
      "Done in 186 ms!\n",
      "43.812 KiB - 49.3% = 22.216 KiB\n",
      "\n",
      "47-acg_big.svg:\n",
      "Done in 273 ms!\n",
      "88.577 KiB - 61.9% = 33.792 KiB\n",
      "\n",
      "10115-feat_big.svg:\n",
      "Done in 270 ms!\n",
      "55.882 KiB - 45.1% = 30.699 KiB\n",
      "\n",
      "55-wvf_big.svg:\n",
      "Done in 167 ms!\n",
      "42.914 KiB - 48.8% = 21.967 KiB\n",
      "\n",
      "10130-wvf_big.svg:\n",
      "Done in 177 ms!\n",
      "42.865 KiB - 48.9% = 21.898 KiB\n",
      "\n",
      "1015-wvf_big.svg:\n",
      "Done in 179 ms!\n",
      "41.786 KiB - 49% = 21.295 KiB\n",
      "\n",
      "14-wvf_big.svg:\n",
      "Done in 174 ms!\n",
      "42.741 KiB - 48.7% = 21.946 KiB\n",
      "\n",
      "11-feat_big.svg:\n",
      "Done in 293 ms!\n",
      "54.747 KiB - 45.1% = 30.074 KiB\n",
      "\n",
      "48-feat_big.svg:\n",
      "Done in 268 ms!\n",
      "54.183 KiB - 45.4% = 29.589 KiB\n",
      "\n",
      "1-wvf_big.svg:\n",
      "Done in 172 ms!\n",
      "42.266 KiB - 48.6% = 21.705 KiB\n",
      "\n",
      "87-wvf_big.svg:\n",
      "Done in 179 ms!\n",
      "42.624 KiB - 48.8% = 21.821 KiB\n",
      "\n",
      "69-wvf_big.svg:\n",
      "Done in 164 ms!\n",
      "41.431 KiB - 48.8% = 21.232 KiB\n",
      "\n",
      "19-acg_big.svg:\n",
      "Done in 274 ms!\n",
      "62.095 KiB - 55.9% = 27.357 KiB\n",
      "\n",
      "12-wvf_big.svg:\n",
      "Done in 164 ms!\n",
      "43.323 KiB - 48.9% = 22.146 KiB\n",
      "\n",
      "10135-feat_big.svg:\n",
      "Done in 276 ms!\n",
      "54.854 KiB - 44.9% = 30.237 KiB\n",
      "\n",
      "6-wvf_big.svg:\n",
      "Done in 163 ms!\n",
      "42.315 KiB - 48.7% = 21.727 KiB\n",
      "\n",
      "50-wvf_big.svg:\n",
      "Done in 177 ms!\n",
      "42.811 KiB - 48.8% = 21.917 KiB\n",
      "\n",
      "10147-wvf_big.svg:\n",
      "Done in 194 ms!\n",
      "41.4 KiB - 49.1% = 21.066 KiB\n",
      "\n",
      "4-feat_big.svg:\n",
      "Done in 290 ms!\n",
      "55.97 KiB - 45% = 30.793 KiB\n",
      "\n",
      "1016-feat_big.svg:\n",
      "Done in 290 ms!\n",
      "55.103 KiB - 44.9% = 30.342 KiB\n",
      "\n",
      "10111-wvf_big.svg:\n",
      "Done in 214 ms!\n",
      "41.741 KiB - 49% = 21.28 KiB\n",
      "\n",
      "13-acg_big.svg:\n",
      "Done in 283 ms!\n",
      "92.297 KiB - 61.2% = 35.85 KiB\n",
      "\n",
      "1011-feat_big.svg:\n",
      "Done in 302 ms!\n",
      "55.019 KiB - 44.5% = 30.51 KiB\n",
      "\n",
      "20-acg_big.svg:\n",
      "Done in 270 ms!\n",
      "65.5 KiB - 56.7% = 28.33 KiB\n",
      "\n",
      "10147-feat_big.svg:\n",
      "Done in 310 ms!\n",
      "56.012 KiB - 44.8% = 30.903 KiB\n",
      "\n",
      "73-acg_big.svg:\n",
      "Done in 301 ms!\n",
      "72.189 KiB - 58.9% = 29.7 KiB\n",
      "\n",
      "31-acg_big.svg:\n",
      "Done in 271 ms!\n",
      "86.85 KiB - 61.3% = 33.649 KiB\n",
      "\n",
      "38-feat_big.svg:\n",
      "Done in 289 ms!\n",
      "54.693 KiB - 44.6% = 30.285 KiB\n",
      "\n",
      "90-feat_big.svg:\n",
      "Done in 274 ms!\n",
      "56.867 KiB - 45.3% = 31.103 KiB\n",
      "\n",
      "10111-acg_big.svg:\n",
      "Done in 268 ms!\n",
      "68.301 KiB - 57.9% = 28.726 KiB\n"
     ]
    }
   ],
   "source": [
    "home = str(Path.home())\n",
    "\n",
    "if not os.path.isdir(f\"{home}/Desktop/SVGs_SfN\"):\n",
    "    os.mkdir(f\"{home}/Desktop/SVGs_SfN\")\n",
    "\n",
    "for file in tqdm(glob.glob(\"*.pdf\")):\n",
    "    filename = file.split(\".\")[0]\n",
    "    if \"opto_plots\" in file:\n",
    "        os.system(f\"convert -units PixelsPerInch -density 288 {file} {filename}.png \")\n",
    "        os.system(f\"mv {filename}.png {home}/Desktop/SVGs_SfN\")\n",
    "    else:\n",
    "        os.system(f\"pdf2svg {file} {filename}_big.svg 1\")\n",
    "        os.system(f\"svgo {filename}_big.svg -o {filename}.svg\")\n",
    "        os.system(f\"rm {filename}_big.svg\")\n",
    "        os.system(f\"mv {filename}.svg {home}/Desktop/SVGs_SfN\")\n",
    "        pass\n"
   ]
  },
  {
   "cell_type": "markdown",
   "metadata": {},
   "source": [
    "## Filter PkC CS and SS pairs that are not optotagged"
   ]
  },
  {
   "cell_type": "code",
   "execution_count": 51,
   "metadata": {},
   "outputs": [],
   "source": [
    "with open(json_path) as f:\n",
    "    json_f = json.load(f)\n",
    "simple_and_complex = []\n",
    "for key in json_f:\n",
    "    simple_and_complex.extend(json_f[key][\"ss\"])\n",
    "    simple_and_complex.extend(json_f[key][\"cs\"])"
   ]
  },
  {
   "cell_type": "code",
   "execution_count": 52,
   "metadata": {},
   "outputs": [],
   "source": [
    "not_optotagged = df.loc[df[\"unit\"].isin(simple_and_complex), [\"label\", \"dp\", \"unit\", \"plotting_id\"]]"
   ]
  },
  {
   "cell_type": "code",
   "execution_count": null,
   "metadata": {},
   "outputs": [],
   "source": [
    "today = date.today().strftime(\"%b-%d-%Y\")\n",
    "not_optotagged.to_csv(f\"{today}-not_optotagged.csv\")"
   ]
  },
  {
   "cell_type": "markdown",
   "metadata": {},
   "source": [
    "### Here manual curation is needed to add the corresponding pairs to the json file!\n",
    "See [here](https://docs.google.com/spreadsheets/d/14-IJPxhNrgPPapYODdag7BbuVSprwdH8q35Z2QVaG_Y/edit#gid=1741211396)"
   ]
  },
  {
   "cell_type": "code",
   "execution_count": null,
   "metadata": {},
   "outputs": [],
   "source": []
  },
  {
   "cell_type": "markdown",
   "metadata": {},
   "source": [
    "After editing manually we can remove the non optotagged optoplots and change them for what we actually want"
   ]
  },
  {
   "cell_type": "code",
   "execution_count": 29,
   "metadata": {},
   "outputs": [
    {
     "data": {
      "image/png": "[encoded data removed]",
      "text/plain": [
       "<Figure size 331.2x216 with 1 Axes>"
      ]
     },
     "metadata": {
      "needs_background": "light"
     },
     "output_type": "display_data"
    }
   ],
   "source": [
    "fig = plt.figure(figsize=(4.6, 3))\n",
    "ax = fig.add_subplot()\n",
    "fig.subplots_adjust(top=0.85)\n",
    "ax.axis([0, 10, 0, 10])\n",
    "ax.set_xticklabels([])\n",
    "ax.set_yticklabels([])\n",
    "ax.text(\n",
    "    2,\n",
    "    5,\n",
    "    \"Unit selected through the presence of a \\n\"\n",
    "    \"simple spike - complex spike association\",\n",
    "    style=\"italic\",\n",
    "    bbox={\"facecolor\": \"red\", \"alpha\": 0.4, \"pad\": 10},\n",
    ")\n",
    "# plt.show()\n",
    "plt.savefig(\"purkinje_cell.pdf\", format=\"pdf\")"
   ]
  },
  {
   "cell_type": "code",
   "execution_count": 30,
   "metadata": {},
   "outputs": [
    {
     "data": {
      "text/plain": [
       "0"
      ]
     },
     "execution_count": 30,
     "metadata": {},
     "output_type": "execute_result"
    }
   ],
   "source": [
    "os.system(f\"convert -units PixelsPerInch -density 288 purkinje_cell.pdf purkinje_cell.png \")\n",
    "os.system(f\"mv purkinje_cell.png {home}/Desktop/SVGs_SfN\")"
   ]
  },
  {
   "cell_type": "code",
   "execution_count": 38,
   "metadata": {},
   "outputs": [
    {
     "name": "stderr",
     "output_type": "stream",
     "text": [
      "rm: cannot remove '103_opto_plots_combined.pdf': No such file or directory\n",
      "rm: cannot remove '104_opto_plots_combined.pdf': No such file or directory\n",
      "rm: cannot remove '105_opto_plots_combined.pdf': No such file or directory\n",
      "rm: cannot remove '106_opto_plots_combined.pdf': No such file or directory\n"
     ]
    }
   ],
   "source": [
    "# Remove opto plots of non light responsive cells\n",
    "for i, row in not_optotagged.iterrows():\n",
    "    unit = row[\"unit\"]\n",
    "    plotting_id = str(row[\"plotting_id\"])\n",
    "    os.system(f\"rm {plotting_id}_opto_plots_combined.pdf\")\n",
    "    fig = plt.figure(figsize=(4.6, 3))\n",
    "    ax = fig.add_subplot()\n",
    "    fig.subplots_adjust(top=0.85)\n",
    "    ax.axis([0, 10, 0, 10])\n",
    "    ax.set_xticklabels([])\n",
    "    ax.set_yticklabels([])\n",
    "    ax.text(\n",
    "        2,\n",
    "        5,\n",
    "        \"Unit selected through the presence of a \\n\"\n",
    "        \"simple spike - complex spike association\",\n",
    "        style=\"italic\",\n",
    "        bbox={\"facecolor\": \"red\", \"alpha\": 0.4, \"pad\": 10},\n",
    "    )\n",
    "    pdf_file = f\"{plotting_id}_opto_plots_combined.pdf\"\n",
    "    filename =  f\"{plotting_id}_opto_plots_combined\"\n",
    "    plt.savefig(pdf_file, format=\"pdf\")\n",
    "    plt.close()\n",
    "    os.system(f\"convert -units PixelsPerInch -density 288 {pdf_file} {filename}.png \")\n",
    "    os.system(f\"mv {filename}.png {home}/Desktop/SVGs_SfN\")"
   ]
  },
  {
   "cell_type": "code",
   "execution_count": 27,
   "metadata": {},
   "outputs": [
    {
     "data": {
      "image/png": "[encoded data removed]",
      "text/plain": [
       "<Figure size 331.2x216 with 1 Axes>"
      ]
     },
     "metadata": {
      "needs_background": "light"
     },
     "output_type": "display_data"
    }
   ],
   "source": [
    "fig = plt.figure(figsize=(4.6, 3))\n",
    "ax = fig.add_subplot()\n",
    "fig.subplots_adjust(top=0.85)\n",
    "ax.axis([0, 10, 0, 10])\n",
    "ax.set_xticklabels([])\n",
    "ax.set_yticklabels([])\n",
    "ax.text(\n",
    "    2,\n",
    "    5,\n",
    "    \"Opto-plots are unavailable for this unit\",\n",
    "    style=\"italic\",\n",
    "    bbox={\"facecolor\": \"red\", \"alpha\": 0.4, \"pad\": 10},\n",
    ")\n",
    "plt.savefig(\"opto_plots_unavailable.pdf\", format=\"pdf\")"
   ]
  },
  {
   "cell_type": "code",
   "execution_count": null,
   "metadata": {},
   "outputs": [],
   "source": []
  }
 ],
 "metadata": {
  "kernelspec": {
   "display_name": "Python 3.10.0",
   "language": "python",
   "name": "python3"
  },
  "language_info": {
   "codemirror_mode": {
    "name": "ipython",
    "version": 3
   },
   "file_extension": ".py",
   "mimetype": "text/x-python",
   "name": "python",
   "nbconvert_exporter": "python",
   "pygments_lexer": "ipython3",
   "version": "3.10.0"
  },
  "orig_nbformat": 4,
  "vscode": {
   "interpreter": {
    "hash": "ee6a9a8b61699f32b5a7a55c4b76a23d31b5e19b5306abe9fe34779c1ab572f7"
   }
  }
 },
 "nbformat": 4,
 "nbformat_minor": 2
}
